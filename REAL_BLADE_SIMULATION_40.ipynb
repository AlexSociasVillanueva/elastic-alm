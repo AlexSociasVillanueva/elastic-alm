{
 "cells": [
  {
   "cell_type": "code",
   "execution_count": 1,
   "metadata": {},
   "outputs": [],
   "source": [
    "import pandas as pd\n",
    "import numpy as np\n",
    "import math\n",
    "import matplotlib.pyplot as plt\n",
    "import matplotlib\n",
    "import seaborn as sns\n",
    "from datetime import datetime, date, time\n",
    "from scipy.interpolate import interp1d\n",
    "import warnings\n",
    "warnings.filterwarnings('ignore')"
   ]
  },
  {
   "cell_type": "markdown",
   "metadata": {},
   "source": [
    "# 1. LOADING THE PLOTS INFORMATION"
   ]
  },
  {
   "cell_type": "markdown",
   "metadata": {},
   "source": [
    "## 1.1.1 AERODYNAMIC PROPERTIES"
   ]
  },
  {
   "cell_type": "code",
   "execution_count": 2,
   "metadata": {},
   "outputs": [],
   "source": [
    "#Defining the location of the data folder \n",
    "DATA_FOLDER = 'Desktop/PLOTS_DATA_WIND_TURBINES/Aerodynamics_properties_blades/Data/'\n",
    "\n",
    "\n",
    "\n",
    "#DU21-A17\n",
    "\n",
    "#Definition of the data path\n",
    "DATASET1 = DATA_FOLDER + \"Drag DU21-A17_pi.csv\"\n",
    "DATASET2 = DATA_FOLDER + \"Lift DU21-A17_pi.csv\"\n",
    "\n",
    "#Load of the compressed files in a specific way in function of the type of data file \n",
    "df_drag_DU21_A17 = pd.read_csv(DATASET1,sep =';',decimal=\",\")\n",
    "df_lift_DU21_A17 = pd.read_csv(DATASET2,sep =';',decimal=\",\")\n",
    "\n",
    "\n",
    "#Defining the columns names of the uploaded dataframe\n",
    "df_drag_DU21_A17.columns=[\"Angle_of_attack\", \"Cd\"]\n",
    "df_lift_DU21_A17.columns=[\"Angle_of_attack\", \"Cl\"]\n",
    "\n",
    "\n",
    "\n",
    "#DU25-A17\n",
    "\n",
    "#Definition of the data path\n",
    "DATASET1 = DATA_FOLDER + \"Drag DU25-A17_pi.csv\"\n",
    "DATASET2 = DATA_FOLDER + \"Lift DU25-A17_pi.csv\"\n",
    "\n",
    "#Load of the compressed files in a specific way in function of the type of data file \n",
    "df_drag_DU25_A17 = pd.read_csv(DATASET1,sep =';',decimal=\",\")\n",
    "df_lift_DU25_A17 = pd.read_csv(DATASET2,sep =';',decimal=\",\")\n",
    "\n",
    "\n",
    "#Defining the columns names of the uploaded dataframe\n",
    "df_drag_DU25_A17.columns=[\"Angle_of_attack\", \"Cd\"]\n",
    "df_lift_DU25_A17.columns=[\"Angle_of_attack\", \"Cl\"]\n",
    "\n",
    "\n",
    "\n",
    "#DU30-A17\n",
    "\n",
    "#Definition of the data path\n",
    "DATASET1 = DATA_FOLDER + \"Drag DU30-A17_pi.csv\"\n",
    "DATASET2 = DATA_FOLDER + \"Lift DU30-A17_pi.csv\"\n",
    "\n",
    "#Load of the compressed files in a specific way in function of the type of data file \n",
    "df_drag_DU30_A17 = pd.read_csv(DATASET1,sep =';',decimal=\",\")\n",
    "df_lift_DU30_A17 = pd.read_csv(DATASET2,sep =';',decimal=\",\")\n",
    "\n",
    "\n",
    "#Defining the columns names of the uploaded dataframe\n",
    "df_drag_DU30_A17.columns=[\"Angle_of_attack\", \"Cd\"]\n",
    "df_lift_DU30_A17.columns=[\"Angle_of_attack\", \"Cl\"]\n",
    "\n",
    "\n",
    "\n",
    "#DU35-A17\n",
    "\n",
    "#Definition of the data path\n",
    "DATASET1 = DATA_FOLDER + \"Drag DU35-A17_pi.csv\"\n",
    "DATASET2 = DATA_FOLDER + \"Lift DU35-A17_pi.csv\"\n",
    "\n",
    "#Load of the compressed files in a specific way in function of the type of data file \n",
    "df_drag_DU35_A17 = pd.read_csv(DATASET1,sep =';',decimal=\",\")\n",
    "df_lift_DU35_A17 = pd.read_csv(DATASET2,sep =';',decimal=\",\")\n",
    "\n",
    "\n",
    "#Defining the columns names of the uploaded dataframe\n",
    "df_drag_DU35_A17.columns=[\"Angle_of_attack\", \"Cd\"]\n",
    "df_lift_DU35_A17.columns=[\"Angle_of_attack\", \"Cl\"]\n",
    "\n",
    "\n",
    "\n",
    "#DU40-A17\n",
    "\n",
    "#Definition of the data path\n",
    "DATASET1 = DATA_FOLDER + \"Drag DU40-A17_pi.csv\"\n",
    "DATASET2 = DATA_FOLDER + \"Lift DU40-A17_pi.csv\"\n",
    "\n",
    "#Load of the compressed files in a specific way in function of the type of data file \n",
    "df_drag_DU40_A17 = pd.read_csv(DATASET1,sep =';',decimal=\",\")\n",
    "df_lift_DU40_A17 = pd.read_csv(DATASET2,sep =';',decimal=\",\")\n",
    "\n",
    "\n",
    "#Defining the columns names of the uploaded dataframe\n",
    "df_drag_DU40_A17.columns=[\"Angle_of_attack\", \"Cd\"]\n",
    "df_lift_DU40_A17.columns=[\"Angle_of_attack\", \"Cl\"]\n",
    "\n",
    "\n",
    "\n",
    "#NACA64-A17\n",
    "\n",
    "#Definition of the data path\n",
    "DATASET1 = DATA_FOLDER + \"Drag NACA64-A17_pi.csv\"\n",
    "DATASET2 = DATA_FOLDER + \"Lift NACA64-A17_pi.csv\"\n",
    "\n",
    "#Load of the compressed files in a specific way in function of the type of data file \n",
    "df_drag_NACA64_A17 = pd.read_csv(DATASET1,sep =';',decimal=\",\")\n",
    "df_lift_NACA64_A17 = pd.read_csv(DATASET2,sep =';',decimal=\",\")\n",
    "\n",
    "\n",
    "#Defining the columns names of the uploaded dataframe\n",
    "df_drag_NACA64_A17.columns=[\"Angle_of_attack\", \"Cd\"]\n",
    "df_lift_NACA64_A17.columns=[\"Angle_of_attack\", \"Cl\"]"
   ]
  },
  {
   "cell_type": "markdown",
   "metadata": {},
   "source": [
    "## 1.1.2 AERODYNAMIC FORCES"
   ]
  },
  {
   "cell_type": "code",
   "execution_count": 3,
   "metadata": {},
   "outputs": [],
   "source": [
    "fx = np.load('fx.npy')\n",
    "ft = np.load('ft.npy')\n",
    "\n",
    "# t_total=800s\n",
    "#500 time steps\n",
    "#3 different blade turbines\n",
    "#64 points in the aerodynamic calculation spanwise direction for 62.5 m\n",
    "#1 turbine"
   ]
  },
  {
   "cell_type": "code",
   "execution_count": 4,
   "metadata": {},
   "outputs": [
    {
     "data": {
      "text/plain": [
       "(500, 3, 64, 1)"
      ]
     },
     "execution_count": 4,
     "metadata": {},
     "output_type": "execute_result"
    }
   ],
   "source": [
    "fx.shape"
   ]
  },
  {
   "cell_type": "code",
   "execution_count": 5,
   "metadata": {},
   "outputs": [
    {
     "data": {
      "text/plain": [
       "(500, 3, 64, 1)"
      ]
     },
     "execution_count": 5,
     "metadata": {},
     "output_type": "execute_result"
    }
   ],
   "source": [
    "ft.shape"
   ]
  },
  {
   "cell_type": "markdown",
   "metadata": {},
   "source": [
    "Now the objective is extract the useful data only from one blade to reduce the multidimensional array. It will be more intuitively for the following steps have a less dimensions in the aerodynamic force applied in the blade."
   ]
  },
  {
   "cell_type": "code",
   "execution_count": 6,
   "metadata": {},
   "outputs": [],
   "source": [
    "fx_2D = fx[:,1,:,0]\n",
    "ft_2D = ft[:,1,:,0]"
   ]
  },
  {
   "cell_type": "markdown",
   "metadata": {},
   "source": [
    "It is necessary translate the data from the 64 points in the span-wise direction into his correspondance radius position to be able to interpolate. The best way is create a data frame with value of aerodynamic force and the blade position. The main reason is because if the number of discretization points change in the structural program, be capable to interpolate and get a correct value."
   ]
  },
  {
   "cell_type": "code",
   "execution_count": 7,
   "metadata": {},
   "outputs": [],
   "source": [
    "#Creating set of data about the radius/blade position from aerodynamic force simulation.\n",
    "N_aero = fx.shape[2]\n",
    "radius_position_aero = np.zeros(N_aero)\n",
    "R_aero = 63\n",
    "delta_r_aero = R_aero/(N_aero-1)\n",
    "r_aero = 0\n",
    "for i in range(1,N_aero):\n",
    "    r_aero = r_aero + delta_r_aero\n",
    "    radius_position_aero[i] = r_aero "
   ]
  },
  {
   "cell_type": "code",
   "execution_count": 8,
   "metadata": {},
   "outputs": [
    {
     "data": {
      "text/plain": [
       "array([ 0.,  1.,  2.,  3.,  4.,  5.,  6.,  7.,  8.,  9., 10., 11., 12.,\n",
       "       13., 14., 15., 16., 17., 18., 19., 20., 21., 22., 23., 24., 25.,\n",
       "       26., 27., 28., 29., 30., 31., 32., 33., 34., 35., 36., 37., 38.,\n",
       "       39., 40., 41., 42., 43., 44., 45., 46., 47., 48., 49., 50., 51.,\n",
       "       52., 53., 54., 55., 56., 57., 58., 59., 60., 61., 62., 63.])"
      ]
     },
     "execution_count": 8,
     "metadata": {},
     "output_type": "execute_result"
    }
   ],
   "source": [
    "radius_position_aero"
   ]
  },
  {
   "cell_type": "code",
   "execution_count": 9,
   "metadata": {},
   "outputs": [],
   "source": [
    "#Creating set of data about the time position from aerodynamic force simulation.\n",
    "T_aero = fx.shape[0]\n",
    "time_position_aero = np.zeros(T_aero)\n",
    "total_t_aero = 800 #seconds\n",
    "delta_t_aero = total_t_aero/(T_aero-1)\n",
    "t_aero = 0\n",
    "for i in range(1,T_aero):\n",
    "    t_aero = t_aero + delta_t_aero\n",
    "    time_position_aero[i] = t_aero "
   ]
  },
  {
   "cell_type": "code",
   "execution_count": 10,
   "metadata": {},
   "outputs": [
    {
     "data": {
      "text/plain": [
       "array([  0.        ,   1.60320641,   3.20641283,   4.80961924,\n",
       "         6.41282565,   8.01603206,   9.61923848,  11.22244489,\n",
       "        12.8256513 ,  14.42885772,  16.03206413,  17.63527054,\n",
       "        19.23847695,  20.84168337,  22.44488978,  24.04809619,\n",
       "        25.65130261,  27.25450902,  28.85771543,  30.46092184,\n",
       "        32.06412826,  33.66733467,  35.27054108,  36.87374749,\n",
       "        38.47695391,  40.08016032,  41.68336673,  43.28657315,\n",
       "        44.88977956,  46.49298597,  48.09619238,  49.6993988 ,\n",
       "        51.30260521,  52.90581162,  54.50901804,  56.11222445,\n",
       "        57.71543086,  59.31863727,  60.92184369,  62.5250501 ,\n",
       "        64.12825651,  65.73146293,  67.33466934,  68.93787575,\n",
       "        70.54108216,  72.14428858,  73.74749499,  75.3507014 ,\n",
       "        76.95390782,  78.55711423,  80.16032064,  81.76352705,\n",
       "        83.36673347,  84.96993988,  86.57314629,  88.17635271,\n",
       "        89.77955912,  91.38276553,  92.98597194,  94.58917836,\n",
       "        96.19238477,  97.79559118,  99.3987976 , 101.00200401,\n",
       "       102.60521042, 104.20841683, 105.81162325, 107.41482966,\n",
       "       109.01803607, 110.62124248, 112.2244489 , 113.82765531,\n",
       "       115.43086172, 117.03406814, 118.63727455, 120.24048096,\n",
       "       121.84368737, 123.44689379, 125.0501002 , 126.65330661,\n",
       "       128.25651303, 129.85971944, 131.46292585, 133.06613226,\n",
       "       134.66933868, 136.27254509, 137.8757515 , 139.47895792,\n",
       "       141.08216433, 142.68537074, 144.28857715, 145.89178357,\n",
       "       147.49498998, 149.09819639, 150.70140281, 152.30460922,\n",
       "       153.90781563, 155.51102204, 157.11422846, 158.71743487,\n",
       "       160.32064128, 161.9238477 , 163.52705411, 165.13026052,\n",
       "       166.73346693, 168.33667335, 169.93987976, 171.54308617,\n",
       "       173.14629259, 174.749499  , 176.35270541, 177.95591182,\n",
       "       179.55911824, 181.16232465, 182.76553106, 184.36873747,\n",
       "       185.97194389, 187.5751503 , 189.17835671, 190.78156313,\n",
       "       192.38476954, 193.98797595, 195.59118236, 197.19438878,\n",
       "       198.79759519, 200.4008016 , 202.00400802, 203.60721443,\n",
       "       205.21042084, 206.81362725, 208.41683367, 210.02004008,\n",
       "       211.62324649, 213.22645291, 214.82965932, 216.43286573,\n",
       "       218.03607214, 219.63927856, 221.24248497, 222.84569138,\n",
       "       224.4488978 , 226.05210421, 227.65531062, 229.25851703,\n",
       "       230.86172345, 232.46492986, 234.06813627, 235.67134269,\n",
       "       237.2745491 , 238.87775551, 240.48096192, 242.08416834,\n",
       "       243.68737475, 245.29058116, 246.89378758, 248.49699399,\n",
       "       250.1002004 , 251.70340681, 253.30661323, 254.90981964,\n",
       "       256.51302605, 258.11623246, 259.71943888, 261.32264529,\n",
       "       262.9258517 , 264.52905812, 266.13226453, 267.73547094,\n",
       "       269.33867735, 270.94188377, 272.54509018, 274.14829659,\n",
       "       275.75150301, 277.35470942, 278.95791583, 280.56112224,\n",
       "       282.16432866, 283.76753507, 285.37074148, 286.9739479 ,\n",
       "       288.57715431, 290.18036072, 291.78356713, 293.38677355,\n",
       "       294.98997996, 296.59318637, 298.19639279, 299.7995992 ,\n",
       "       301.40280561, 303.00601202, 304.60921844, 306.21242485,\n",
       "       307.81563126, 309.41883768, 311.02204409, 312.6252505 ,\n",
       "       314.22845691, 315.83166333, 317.43486974, 319.03807615,\n",
       "       320.64128257, 322.24448898, 323.84769539, 325.4509018 ,\n",
       "       327.05410822, 328.65731463, 330.26052104, 331.86372745,\n",
       "       333.46693387, 335.07014028, 336.67334669, 338.27655311,\n",
       "       339.87975952, 341.48296593, 343.08617234, 344.68937876,\n",
       "       346.29258517, 347.89579158, 349.498998  , 351.10220441,\n",
       "       352.70541082, 354.30861723, 355.91182365, 357.51503006,\n",
       "       359.11823647, 360.72144289, 362.3246493 , 363.92785571,\n",
       "       365.53106212, 367.13426854, 368.73747495, 370.34068136,\n",
       "       371.94388778, 373.54709419, 375.1503006 , 376.75350701,\n",
       "       378.35671343, 379.95991984, 381.56312625, 383.16633267,\n",
       "       384.76953908, 386.37274549, 387.9759519 , 389.57915832,\n",
       "       391.18236473, 392.78557114, 394.38877756, 395.99198397,\n",
       "       397.59519038, 399.19839679, 400.80160321, 402.40480962,\n",
       "       404.00801603, 405.61122244, 407.21442886, 408.81763527,\n",
       "       410.42084168, 412.0240481 , 413.62725451, 415.23046092,\n",
       "       416.83366733, 418.43687375, 420.04008016, 421.64328657,\n",
       "       423.24649299, 424.8496994 , 426.45290581, 428.05611222,\n",
       "       429.65931864, 431.26252505, 432.86573146, 434.46893788,\n",
       "       436.07214429, 437.6753507 , 439.27855711, 440.88176353,\n",
       "       442.48496994, 444.08817635, 445.69138277, 447.29458918,\n",
       "       448.89779559, 450.501002  , 452.10420842, 453.70741483,\n",
       "       455.31062124, 456.91382766, 458.51703407, 460.12024048,\n",
       "       461.72344689, 463.32665331, 464.92985972, 466.53306613,\n",
       "       468.13627255, 469.73947896, 471.34268537, 472.94589178,\n",
       "       474.5490982 , 476.15230461, 477.75551102, 479.35871743,\n",
       "       480.96192385, 482.56513026, 484.16833667, 485.77154309,\n",
       "       487.3747495 , 488.97795591, 490.58116232, 492.18436874,\n",
       "       493.78757515, 495.39078156, 496.99398798, 498.59719439,\n",
       "       500.2004008 , 501.80360721, 503.40681363, 505.01002004,\n",
       "       506.61322645, 508.21643287, 509.81963928, 511.42284569,\n",
       "       513.0260521 , 514.62925852, 516.23246493, 517.83567134,\n",
       "       519.43887776, 521.04208417, 522.64529058, 524.24849699,\n",
       "       525.85170341, 527.45490982, 529.05811623, 530.66132265,\n",
       "       532.26452906, 533.86773547, 535.47094188, 537.0741483 ,\n",
       "       538.67735471, 540.28056112, 541.88376754, 543.48697395,\n",
       "       545.09018036, 546.69338677, 548.29659319, 549.8997996 ,\n",
       "       551.50300601, 553.10621242, 554.70941884, 556.31262525,\n",
       "       557.91583166, 559.51903808, 561.12224449, 562.7254509 ,\n",
       "       564.32865731, 565.93186373, 567.53507014, 569.13827655,\n",
       "       570.74148297, 572.34468938, 573.94789579, 575.5511022 ,\n",
       "       577.15430862, 578.75751503, 580.36072144, 581.96392786,\n",
       "       583.56713427, 585.17034068, 586.77354709, 588.37675351,\n",
       "       589.97995992, 591.58316633, 593.18637275, 594.78957916,\n",
       "       596.39278557, 597.99599198, 599.5991984 , 601.20240481,\n",
       "       602.80561122, 604.40881764, 606.01202405, 607.61523046,\n",
       "       609.21843687, 610.82164329, 612.4248497 , 614.02805611,\n",
       "       615.63126253, 617.23446894, 618.83767535, 620.44088176,\n",
       "       622.04408818, 623.64729459, 625.250501  , 626.85370741,\n",
       "       628.45691383, 630.06012024, 631.66332665, 633.26653307,\n",
       "       634.86973948, 636.47294589, 638.0761523 , 639.67935872,\n",
       "       641.28256513, 642.88577154, 644.48897796, 646.09218437,\n",
       "       647.69539078, 649.29859719, 650.90180361, 652.50501002,\n",
       "       654.10821643, 655.71142285, 657.31462926, 658.91783567,\n",
       "       660.52104208, 662.1242485 , 663.72745491, 665.33066132,\n",
       "       666.93386774, 668.53707415, 670.14028056, 671.74348697,\n",
       "       673.34669339, 674.9498998 , 676.55310621, 678.15631263,\n",
       "       679.75951904, 681.36272545, 682.96593186, 684.56913828,\n",
       "       686.17234469, 687.7755511 , 689.37875752, 690.98196393,\n",
       "       692.58517034, 694.18837675, 695.79158317, 697.39478958,\n",
       "       698.99799599, 700.6012024 , 702.20440882, 703.80761523,\n",
       "       705.41082164, 707.01402806, 708.61723447, 710.22044088,\n",
       "       711.82364729, 713.42685371, 715.03006012, 716.63326653,\n",
       "       718.23647295, 719.83967936, 721.44288577, 723.04609218,\n",
       "       724.6492986 , 726.25250501, 727.85571142, 729.45891784,\n",
       "       731.06212425, 732.66533066, 734.26853707, 735.87174349,\n",
       "       737.4749499 , 739.07815631, 740.68136273, 742.28456914,\n",
       "       743.88777555, 745.49098196, 747.09418838, 748.69739479,\n",
       "       750.3006012 , 751.90380762, 753.50701403, 755.11022044,\n",
       "       756.71342685, 758.31663327, 759.91983968, 761.52304609,\n",
       "       763.12625251, 764.72945892, 766.33266533, 767.93587174,\n",
       "       769.53907816, 771.14228457, 772.74549098, 774.34869739,\n",
       "       775.95190381, 777.55511022, 779.15831663, 780.76152305,\n",
       "       782.36472946, 783.96793587, 785.57114228, 787.1743487 ,\n",
       "       788.77755511, 790.38076152, 791.98396794, 793.58717435,\n",
       "       795.19038076, 796.79358717, 798.39679359, 800.        ])"
      ]
     },
     "execution_count": 10,
     "metadata": {},
     "output_type": "execute_result"
    }
   ],
   "source": [
    "time_position_aero"
   ]
  },
  {
   "cell_type": "code",
   "execution_count": 11,
   "metadata": {},
   "outputs": [],
   "source": [
    "#Creating dataframes to store the data from the aerodynamic simulation:\n",
    "columns = [\"time\", \"position\"]\n",
    "index_position = np.linspace(0, 499, num=500)\n",
    "data_time = np.dstack((time_position_aero,index_position))\n",
    "data_time = data_time[0,:,:]\n",
    "df_time_aero = pd.DataFrame(data=data_time, columns=columns)"
   ]
  },
  {
   "cell_type": "code",
   "execution_count": 12,
   "metadata": {},
   "outputs": [
    {
     "data": {
      "text/html": [
       "<div>\n",
       "<style scoped>\n",
       "    .dataframe tbody tr th:only-of-type {\n",
       "        vertical-align: middle;\n",
       "    }\n",
       "\n",
       "    .dataframe tbody tr th {\n",
       "        vertical-align: top;\n",
       "    }\n",
       "\n",
       "    .dataframe thead th {\n",
       "        text-align: right;\n",
       "    }\n",
       "</style>\n",
       "<table border=\"1\" class=\"dataframe\">\n",
       "  <thead>\n",
       "    <tr style=\"text-align: right;\">\n",
       "      <th></th>\n",
       "      <th>time</th>\n",
       "      <th>position</th>\n",
       "    </tr>\n",
       "  </thead>\n",
       "  <tbody>\n",
       "    <tr>\n",
       "      <th>0</th>\n",
       "      <td>0.000000</td>\n",
       "      <td>0.0</td>\n",
       "    </tr>\n",
       "    <tr>\n",
       "      <th>1</th>\n",
       "      <td>1.603206</td>\n",
       "      <td>1.0</td>\n",
       "    </tr>\n",
       "    <tr>\n",
       "      <th>2</th>\n",
       "      <td>3.206413</td>\n",
       "      <td>2.0</td>\n",
       "    </tr>\n",
       "    <tr>\n",
       "      <th>3</th>\n",
       "      <td>4.809619</td>\n",
       "      <td>3.0</td>\n",
       "    </tr>\n",
       "    <tr>\n",
       "      <th>4</th>\n",
       "      <td>6.412826</td>\n",
       "      <td>4.0</td>\n",
       "    </tr>\n",
       "    <tr>\n",
       "      <th>...</th>\n",
       "      <td>...</td>\n",
       "      <td>...</td>\n",
       "    </tr>\n",
       "    <tr>\n",
       "      <th>495</th>\n",
       "      <td>793.587174</td>\n",
       "      <td>495.0</td>\n",
       "    </tr>\n",
       "    <tr>\n",
       "      <th>496</th>\n",
       "      <td>795.190381</td>\n",
       "      <td>496.0</td>\n",
       "    </tr>\n",
       "    <tr>\n",
       "      <th>497</th>\n",
       "      <td>796.793587</td>\n",
       "      <td>497.0</td>\n",
       "    </tr>\n",
       "    <tr>\n",
       "      <th>498</th>\n",
       "      <td>798.396794</td>\n",
       "      <td>498.0</td>\n",
       "    </tr>\n",
       "    <tr>\n",
       "      <th>499</th>\n",
       "      <td>800.000000</td>\n",
       "      <td>499.0</td>\n",
       "    </tr>\n",
       "  </tbody>\n",
       "</table>\n",
       "<p>500 rows × 2 columns</p>\n",
       "</div>"
      ],
      "text/plain": [
       "           time  position\n",
       "0      0.000000       0.0\n",
       "1      1.603206       1.0\n",
       "2      3.206413       2.0\n",
       "3      4.809619       3.0\n",
       "4      6.412826       4.0\n",
       "..          ...       ...\n",
       "495  793.587174     495.0\n",
       "496  795.190381     496.0\n",
       "497  796.793587     497.0\n",
       "498  798.396794     498.0\n",
       "499  800.000000     499.0\n",
       "\n",
       "[500 rows x 2 columns]"
      ]
     },
     "execution_count": 12,
     "metadata": {},
     "output_type": "execute_result"
    }
   ],
   "source": [
    "df_time_aero"
   ]
  },
  {
   "cell_type": "code",
   "execution_count": 13,
   "metadata": {},
   "outputs": [],
   "source": [
    "#Creation of the interpolation function for a determinated dataframe:\n",
    "\n",
    "def interpolation(r,df):\n",
    "    xp = df.iloc[:,0]\n",
    "    fp = df.iloc[:,1]\n",
    "    interpolation = np.interp(r,xp,fp)\n",
    "    return interpolation"
   ]
  },
  {
   "cell_type": "code",
   "execution_count": 14,
   "metadata": {},
   "outputs": [],
   "source": [
    "#Create the function to find index postion of aerodynamic force stored:\n",
    "def find_aero_index(t,df_time_aero):\n",
    "    time_index = interpolation(t,df_time_aero)\n",
    "    trunc_time_index = np.trunc(time_index)\n",
    "    trunc_time_index = int(trunc_time_index)\n",
    "    return time_index,trunc_time_index"
   ]
  },
  {
   "cell_type": "code",
   "execution_count": 15,
   "metadata": {},
   "outputs": [],
   "source": [
    "#Creation of the interpolation function for a determinated time_step aerodynamic simulation:\n",
    "def interpolation_time(time_index,trunc_time_index,force_2D):\n",
    "    fst = force_2D[trunc_time_index,:]\n",
    "    snd = force_2D[trunc_time_index+1,:]\n",
    "    linfit = interp1d([trunc_time_index,trunc_time_index+1], np.vstack([fst, snd]), axis=0)\n",
    "    return linfit(time_index)"
   ]
  },
  {
   "cell_type": "code",
   "execution_count": 16,
   "metadata": {},
   "outputs": [
    {
     "data": {
      "text/plain": [
       "array([   0.        ,    0.        ,    0.        ,    0.        ,\n",
       "        272.01451584,  305.07103905,  343.4468021 ,  404.83381603,\n",
       "        498.81343933,  631.71282631,  796.64265144,  992.02704224,\n",
       "       1058.6556456 , 1198.3023735 , 1324.61544601, 1460.29339233,\n",
       "       1651.98104721, 1799.55059006, 1953.95997543, 2114.89930817,\n",
       "       2279.51671967, 2445.80433563, 2588.24444   , 2727.55407349,\n",
       "       2968.33062927, 3098.48094727, 3232.69367767, 3370.82169586,\n",
       "       3503.5262674 , 3495.81556885, 3619.64390015, 3747.48035858,\n",
       "       3881.3532193 , 4018.349646  , 4159.38751862, 4304.54051514,\n",
       "       4453.4200238 , 4472.67247803, 4602.48107605, 4718.7343927 ,\n",
       "       4828.28730164, 4935.69472107, 5035.28849304, 5137.65743469,\n",
       "       5238.39882507, 5680.42082397, 5754.5091748 , 5832.91276794,\n",
       "       5904.30230103, 5960.4338739 , 5997.55577393, 6013.19540588,\n",
       "       6002.79270508, 5964.15028748, 5892.71873535, 5776.80592346,\n",
       "       5616.57901428, 5376.82215576, 5043.56695129, 4640.02625122,\n",
       "       3925.57311615, 3049.35362518, 2125.7328537 , 1258.54434769])"
      ]
     },
     "execution_count": 16,
     "metadata": {},
     "output_type": "execute_result"
    }
   ],
   "source": [
    "F = interpolation_time(find_aero_index(3,df_time_aero)[0],find_aero_index(3,df_time_aero)[1],fx_2D)\n",
    "F"
   ]
  },
  {
   "cell_type": "code",
   "execution_count": 17,
   "metadata": {},
   "outputs": [],
   "source": [
    "#Creation a function that creates a dataframe with the time_step aerodynamic forces at each r:\n",
    "def dataframe_creation(radius_position_aero,aero_force_dataset):\n",
    "    columns = [\"spanwise_length\", \"Aerodynamic_force\"]\n",
    "    data = np.dstack((radius_position_aero,aero_force_dataset))\n",
    "    data = data[0,:,:]\n",
    "    df_force = pd.DataFrame(data=data, columns=columns)\n",
    "    return df_force"
   ]
  },
  {
   "cell_type": "code",
   "execution_count": 18,
   "metadata": {},
   "outputs": [
    {
     "data": {
      "text/html": [
       "<div>\n",
       "<style scoped>\n",
       "    .dataframe tbody tr th:only-of-type {\n",
       "        vertical-align: middle;\n",
       "    }\n",
       "\n",
       "    .dataframe tbody tr th {\n",
       "        vertical-align: top;\n",
       "    }\n",
       "\n",
       "    .dataframe thead th {\n",
       "        text-align: right;\n",
       "    }\n",
       "</style>\n",
       "<table border=\"1\" class=\"dataframe\">\n",
       "  <thead>\n",
       "    <tr style=\"text-align: right;\">\n",
       "      <th></th>\n",
       "      <th>spanwise_length</th>\n",
       "      <th>Aerodynamic_force</th>\n",
       "    </tr>\n",
       "  </thead>\n",
       "  <tbody>\n",
       "    <tr>\n",
       "      <th>0</th>\n",
       "      <td>0.0</td>\n",
       "      <td>0.000000</td>\n",
       "    </tr>\n",
       "    <tr>\n",
       "      <th>1</th>\n",
       "      <td>1.0</td>\n",
       "      <td>0.000000</td>\n",
       "    </tr>\n",
       "    <tr>\n",
       "      <th>2</th>\n",
       "      <td>2.0</td>\n",
       "      <td>0.000000</td>\n",
       "    </tr>\n",
       "    <tr>\n",
       "      <th>3</th>\n",
       "      <td>3.0</td>\n",
       "      <td>0.000000</td>\n",
       "    </tr>\n",
       "    <tr>\n",
       "      <th>4</th>\n",
       "      <td>4.0</td>\n",
       "      <td>272.014516</td>\n",
       "    </tr>\n",
       "    <tr>\n",
       "      <th>...</th>\n",
       "      <td>...</td>\n",
       "      <td>...</td>\n",
       "    </tr>\n",
       "    <tr>\n",
       "      <th>59</th>\n",
       "      <td>59.0</td>\n",
       "      <td>4640.026251</td>\n",
       "    </tr>\n",
       "    <tr>\n",
       "      <th>60</th>\n",
       "      <td>60.0</td>\n",
       "      <td>3925.573116</td>\n",
       "    </tr>\n",
       "    <tr>\n",
       "      <th>61</th>\n",
       "      <td>61.0</td>\n",
       "      <td>3049.353625</td>\n",
       "    </tr>\n",
       "    <tr>\n",
       "      <th>62</th>\n",
       "      <td>62.0</td>\n",
       "      <td>2125.732854</td>\n",
       "    </tr>\n",
       "    <tr>\n",
       "      <th>63</th>\n",
       "      <td>63.0</td>\n",
       "      <td>1258.544348</td>\n",
       "    </tr>\n",
       "  </tbody>\n",
       "</table>\n",
       "<p>64 rows × 2 columns</p>\n",
       "</div>"
      ],
      "text/plain": [
       "    spanwise_length  Aerodynamic_force\n",
       "0               0.0           0.000000\n",
       "1               1.0           0.000000\n",
       "2               2.0           0.000000\n",
       "3               3.0           0.000000\n",
       "4               4.0         272.014516\n",
       "..              ...                ...\n",
       "59             59.0        4640.026251\n",
       "60             60.0        3925.573116\n",
       "61             61.0        3049.353625\n",
       "62             62.0        2125.732854\n",
       "63             63.0        1258.544348\n",
       "\n",
       "[64 rows x 2 columns]"
      ]
     },
     "execution_count": 18,
     "metadata": {},
     "output_type": "execute_result"
    }
   ],
   "source": [
    "H = dataframe_creation(radius_position_aero,F)\n",
    "H"
   ]
  },
  {
   "cell_type": "markdown",
   "metadata": {},
   "source": [
    "## 1.2 STRUCTURAL PROPERTIES"
   ]
  },
  {
   "cell_type": "code",
   "execution_count": 19,
   "metadata": {},
   "outputs": [],
   "source": [
    "#Defining the location of the data folder \n",
    "DATA_FOLDER = 'Desktop/PLOTS_DATA_WIND_TURBINES/Structural_properties/Data/'\n",
    "\n",
    "\n",
    "\n",
    "#BLADE DENSITY\n",
    "\n",
    "#Definition of the data path\n",
    "DATASET = DATA_FOLDER + \"Blade_Density.csv\"\n",
    "\n",
    "#Load of the compressed files in a specific way in function of the type of data file \n",
    "df_blade_density = pd.read_csv(DATASET,sep =';',decimal=\",\")\n",
    "\n",
    "#Defining the columns names of the uploaded dataframe\n",
    "df_blade_density.columns=[\"spanwise_length\", \"blade_density\"]\n",
    "\n",
    "\n",
    "\n",
    "#STRUCTURAL TWIST\n",
    "\n",
    "#Definition of the data path\n",
    "DATASET = DATA_FOLDER + \"Structural_Twist.csv\"\n",
    "\n",
    "#Load of the compressed files in a specific way in function of the type of data file \n",
    "df_twist = pd.read_csv(DATASET,sep =';',decimal=\",\")\n",
    "\n",
    "#Defining the columns names of the uploaded dataframe\n",
    "df_twist.columns=[\"spanwise_length\", \"twist\"]\n",
    "\n",
    "\n",
    "\n",
    "#FLAPWISE STIFFNESS\n",
    "\n",
    "#Definition of the data path\n",
    "DATASET = DATA_FOLDER + \"Flapwise_stiffness.csv\"\n",
    "\n",
    "#Load of the compressed files in a specific way in function of the type of data file \n",
    "df_flapwise_stiffness = pd.read_csv(DATASET,sep =';',decimal=\",\")\n",
    "\n",
    "#Defining the columns names of the uploaded dataframe\n",
    "df_flapwise_stiffness.columns=[\"spanwise_length\", \"flapwise_stiffness\"]\n",
    "\n",
    "\n",
    "\n",
    "#EDGEWISE STIFFNESS\n",
    "\n",
    "#Definition of the data path\n",
    "DATASET = DATA_FOLDER + \"Edgewise_Stiffness.csv\"\n",
    "\n",
    "#Load of the compressed files in a specific way in function of the type of data file \n",
    "df_edgewise_stiffness = pd.read_csv(DATASET,sep =';',decimal=\",\")\n",
    "\n",
    "#Defining the columns names of the uploaded dataframe\n",
    "df_edgewise_stiffness.columns=[\"spanwise_length\", \"edgewise_stiffness\"]"
   ]
  },
  {
   "cell_type": "markdown",
   "metadata": {},
   "source": [
    "# 2. DEFINING VARIABLES AND ARRAYS TO STORE DATA"
   ]
  },
  {
   "cell_type": "code",
   "execution_count": 20,
   "metadata": {},
   "outputs": [],
   "source": [
    "#Creating the 6 arrays neededs to store the infromation in each time step.\n",
    "\n",
    "T = 7000 #Number of points that time is discretized\n",
    "\n",
    "N = 40 #Number of points that the airfoil is discretized\n",
    "\n",
    "#Dynamic velocity arrays:\n",
    "V_0_new = np.zeros(N+2)\n",
    "V_1_new = np.zeros(N+2)\n",
    "V_0_old = np.zeros(N+2)\n",
    "V_1_old = np.zeros(N+2)\n",
    "\n",
    "#Moments arrays:\n",
    "M_0_new = np.zeros(N+2)\n",
    "M_1_new = np.zeros(N+2)\n",
    "M_0_old = np.zeros(N+2)\n",
    "M_1_old = np.zeros(N+2)\n",
    "\n",
    "#Centrifual term arrays:\n",
    "S_0_new = np.zeros(N+2)\n",
    "S_1_new = np.zeros(N+2)\n",
    "S_0_old = np.zeros(N+2)\n",
    "S_1_old = np.zeros(N+2)\n",
    "\n",
    "#Dynamic displacement arrays:\n",
    "q_0_new = np.zeros(N+2)\n",
    "q_1_new = np.zeros(N+2)\n",
    "q_0_old = np.zeros(N+2)\n",
    "q_1_old = np.zeros(N+2)\n",
    "\n",
    "#Centrifugal force array:\n",
    "N_force = np.zeros(N+1)\n",
    "\n",
    "#Radial position in the blade array:\n",
    "Position = np.zeros(N+2)\n",
    "\n",
    "#Time position in the simulation array:\n",
    "Time = np.zeros(T+1)\n",
    "\n",
    "#Root bending moments array:\n",
    "Root_M_0 = np.zeros(T+1)\n",
    "Root_M_1 = np.zeros(T+1)\n",
    "\n",
    "#Tip velocity of the displacements array:\n",
    "Tip_V_0 = np.zeros(T+1)\n",
    "Tip_V_1 = np.zeros(T+1)\n",
    "\n",
    "#Tip displacements array:\n",
    "Tip_q_0 = np.zeros(T+1)\n",
    "Tip_q_1 = np.zeros(T+1)"
   ]
  },
  {
   "cell_type": "code",
   "execution_count": 21,
   "metadata": {},
   "outputs": [],
   "source": [
    "#Defining the different stiffness properties of the blade in a determinated radius r location:\n",
    "\n",
    "def EI_00_f(EI_e,EI_f,twist):\n",
    "  return (EI_e - (EI_e-EI_f)*(math.cos(twist)**2))\n",
    "\n",
    "def EI_11_f(EI_e,EI_f,twist):\n",
    "  return (EI_f + (EI_e-EI_f)*(math.cos(twist)**2))\n",
    "\n",
    "def EI_01_f(EI_e,EI_f,twist):\n",
    "  return (math.sin(2*twist)*((EI_e-EI_f)/2))\n",
    "\n",
    "def EI_10_f(EI_e,EI_f,twist):\n",
    "  return (math.sin(2*twist)*((EI_e-EI_f)/2))"
   ]
  },
  {
   "cell_type": "code",
   "execution_count": 22,
   "metadata": {},
   "outputs": [],
   "source": [
    "#Creation of a function that calculates the centrifugal term forces in the blade due to w:\n",
    "def Centrifugal_force(N,w,df_blade_density):\n",
    "    N_force = 0\n",
    "    for k in range (N+1):\n",
    "        r = 1.5\n",
    "        rho = interpolation(r,df_blade_density)\n",
    "        R = 63\n",
    "        delta_r = R/(N-1)\n",
    "        N_force = N_force + rho*w*r*delta_r\n",
    "        r = r + delta_r\n",
    "    return N_force"
   ]
  },
  {
   "cell_type": "code",
   "execution_count": 23,
   "metadata": {},
   "outputs": [
    {
     "data": {
      "text/plain": [
       "866748.6980541352"
      ]
     },
     "execution_count": 23,
     "metadata": {},
     "output_type": "execute_result"
    }
   ],
   "source": [
    "Centrifugal_force(N,12.1,df_blade_density)"
   ]
  },
  {
   "cell_type": "code",
   "execution_count": 24,
   "metadata": {},
   "outputs": [],
   "source": [
    "#Creation of a function that pass from rpm to rad/s:\n",
    "def rpm_to_rads(w):\n",
    "    return (w*(2*math.pi)/60)"
   ]
  },
  {
   "cell_type": "markdown",
   "metadata": {},
   "source": [
    "# 3. MAIN PROGRAM"
   ]
  },
  {
   "cell_type": "code",
   "execution_count": 25,
   "metadata": {},
   "outputs": [],
   "source": [
    "#Define time and length steps:\n",
    "\n",
    "total_time = 1.6\n",
    "t = 0\n",
    "w = rpm_to_rads(12.1) #rad/s (but visual value in rpm) \n",
    "N_force = Centrifugal_force(N,w,df_blade_density)\n",
    "phi_0 = math.radians(0) #rad/s initial angle for turbine 1 at t = 0s\n",
    "phi_1 = math.radians(120) #rad/s initial angle for turbine 2 at t = 0s\n",
    "phi_2 = math.radians(240) #rad/s initial angle for turbine 3 at t = 0s\n",
    "g = 9.81 #gravity constant\n",
    "\n",
    "#Program loop iterations\n",
    "\n",
    "for j in range(T):\n",
    "    \n",
    "    delta_t = total_time/T\n",
    "    r = 1.5\n",
    "    g_0 = 0.0\n",
    "    g_1 = g*math.cos(phi_1+w*t)\n",
    "    F_0_total = interpolation_time(find_aero_index(t,df_time_aero)[0],find_aero_index(t,df_time_aero)[1],fx_2D)\n",
    "    F_1_total = interpolation_time(find_aero_index(t,df_time_aero)[0],find_aero_index(t,df_time_aero)[1],ft_2D)\n",
    "    df_F_0 = dataframe_creation(radius_position_aero,F_0_total) #Creating dataframe aero_force direction 0 at actual time_step\n",
    "    df_F_1 = dataframe_creation(radius_position_aero,F_1_total) #Creating dataframe aero_force direction 1 at actual time_step\n",
    "    \n",
    "    for i in range(1,N+1):\n",
    "        \n",
    "        R = 63\n",
    "        delta_r = R/(N-1)\n",
    "        \n",
    "        #First we need to define all the properties for the i position:\n",
    "        EI_e = (10**10)*interpolation(r,df_edgewise_stiffness)\n",
    "        EI_f = (10**10)*interpolation(r,df_flapwise_stiffness)\n",
    "        twist = interpolation(r,df_twist)\n",
    "        rho = interpolation(r,df_blade_density)\n",
    "        F_0 = interpolation(r,df_F_0) #Aerodynamic force direction 0\n",
    "        F_1 = interpolation(r,df_F_1) #Aerodynamic force direction 1\n",
    "        \n",
    "        #Secondly calculate new values of data from the old step time:\n",
    "        V_0_new[i] = V_0_old[i] + delta_t*((-1/rho)*((M_0_old[i+1]-(2*M_0_old[i])+M_0_old[i-1])/delta_r**2)+((1/rho)*((S_0_old[i+1]-S_0_old[i])/delta_r))+(F_0/rho)+ g_0)\n",
    "        V_1_new[i] = V_1_old[i] + delta_t*((-1/rho)*((M_1_old[i+1]-(2*M_1_old[i])+M_1_old[i-1])/delta_r**2)+((1/rho)*((S_1_old[i+1]-S_1_old[i])/delta_r))+(F_1/rho)+ g_1)\n",
    "        \n",
    "        #Boundary conditions at the ROOT position: \n",
    "        V_0_new[0] = 0\n",
    "        V_1_new[0] = 0\n",
    "        V_0_new[1] = 0\n",
    "        V_1_new[1] = 0\n",
    "        \n",
    "        \n",
    "        M_0_new[i] = M_0_old[i] + delta_t*((EI_00_f(EI_e,EI_f,twist)*((V_0_new[i+1]-(2*V_0_new[i])+V_0_new[i-1])/delta_r**2)+EI_01_f(EI_e,EI_f,twist)*((V_1_new[i+1]-(2*V_1_new[i])+V_1_new[i-1])/delta_r**2)))\n",
    "        M_1_new[i] = M_1_old[i] + delta_t*((EI_11_f(EI_e,EI_f,twist)*((V_1_new[i+1]-(2*V_1_new[i])+V_1_new[i-1])/delta_r**2)+EI_10_f(EI_e,EI_f,twist)*((V_0_new[i+1]-(2*V_0_new[i])+V_0_new[i-1])/delta_r**2)))\n",
    "        S_0_new[i] = S_0_old[i] + delta_t*(N_force*((V_0_new[i]-V_0_new[i-1])/delta_r))\n",
    "        S_1_new[i] = S_1_old[i] + delta_t*(N_force*((V_1_new[i]-V_1_new[i-1])/delta_r))\n",
    "    \n",
    "        #Boundary conditions at the TIPS position:\n",
    "        M_0_new[N+1] = 0\n",
    "        M_1_new[N+1] = 0\n",
    "        M_0_new[N] = 0\n",
    "        M_1_new[N] = 0\n",
    "        \n",
    "        q_0_new[i] = q_0_old[i] + delta_t*((V_0_old[i]))\n",
    "        q_1_new[i] = q_1_old[i] + delta_t*((V_1_old[i]))\n",
    "    \n",
    "        \n",
    "        #Position control:\n",
    "        \n",
    "        Position[i] = r\n",
    "        r = r + delta_r\n",
    "    \n",
    "    #Upload data to new time-step:\n",
    "    V_0_old = V_0_new \n",
    "    V_1_old = V_1_new \n",
    "    M_0_old = M_0_new \n",
    "    M_1_old = M_1_new \n",
    "    q_0_old = q_0_new\n",
    "    q_1_old = q_1_new\n",
    "    \n",
    "    #Store data to plot:   \n",
    "    Root_M_0[j] = M_0_new[1]\n",
    "    Root_M_1[j] = M_1_new[1]\n",
    "    Tip_V_0[j] = V_0_new[N]\n",
    "    Tip_V_1[j] = V_0_new[N]\n",
    "    Tip_q_0[j] = q_0_new[N]\n",
    "    Tip_q_1[j] = q_1_new[N]\n",
    "    \n",
    "    #Time control:\n",
    "    \n",
    "    Time[j] = t\n",
    "    t = t + delta_t\n",
    "   "
   ]
  },
  {
   "cell_type": "code",
   "execution_count": 26,
   "metadata": {},
   "outputs": [
    {
     "data": {
      "text/plain": [
       "array([      0.        ,   -1884.82959476,   -4128.59953599, ...,\n",
       "       1747777.11189818, 1746425.1028624 ,       0.        ])"
      ]
     },
     "execution_count": 26,
     "metadata": {},
     "output_type": "execute_result"
    }
   ],
   "source": [
    "Root_M_1"
   ]
  },
  {
   "cell_type": "markdown",
   "metadata": {},
   "source": [
    "# 4. RESULTS & PLOTS"
   ]
  },
  {
   "cell_type": "markdown",
   "metadata": {},
   "source": [
    "In this part, we will make different plots to be able to see in a better way the results obtained with the program developed.\n",
    "\n",
    "First we will need to create the new dataframes to be able to"
   ]
  },
  {
   "cell_type": "markdown",
   "metadata": {},
   "source": [
    "## 4.1.1 TIP DISPLACEMENT OVER THE TIME"
   ]
  },
  {
   "cell_type": "code",
   "execution_count": 27,
   "metadata": {},
   "outputs": [
    {
     "data": {
      "image/png": "[encoded data removed]",
      "text/plain": [
       "<Figure size 432x288 with 1 Axes>"
      ]
     },
     "metadata": {
      "needs_background": "light"
     },
     "output_type": "display_data"
    }
   ],
   "source": [
    "#Creating the plot figure:\n",
    "\n",
    "x = Time[:-1]\n",
    "y = Tip_q_0[:-1]\n",
    "\n",
    "\n",
    "plt.plot(x, y, color='blue', linewidth=2)\n",
    "plt.ylabel('Tip Displacement direction 0 [m]')\n",
    "plt.xlabel('Time [s]')\n",
    "plt.title('Tip Displacement direction 0 over the time');"
   ]
  },
  {
   "cell_type": "code",
   "execution_count": 28,
   "metadata": {},
   "outputs": [
    {
     "data": {
      "image/png": "[encoded data removed]",
      "text/plain": [
       "<Figure size 432x288 with 1 Axes>"
      ]
     },
     "metadata": {
      "needs_background": "light"
     },
     "output_type": "display_data"
    }
   ],
   "source": [
    "#Creating the plot figure:\n",
    "\n",
    "x = Time[:-1]\n",
    "y = Tip_q_1[:-1]\n",
    "\n",
    "\n",
    "plt.plot(x, y, color='blue', linewidth=2)\n",
    "plt.ylabel('Tip Displacement direction 1 [m]')\n",
    "plt.xlabel('Time [s]')\n",
    "plt.title('Tip Displacement direction 1 over the time');"
   ]
  },
  {
   "cell_type": "markdown",
   "metadata": {},
   "source": [
    "## 4.1.2 DISPLACEMENT IN THE BLADE"
   ]
  },
  {
   "cell_type": "code",
   "execution_count": 29,
   "metadata": {},
   "outputs": [
    {
     "data": {
      "image/png": "[encoded data removed]",
      "text/plain": [
       "<Figure size 432x288 with 1 Axes>"
      ]
     },
     "metadata": {
      "needs_background": "light"
     },
     "output_type": "display_data"
    }
   ],
   "source": [
    "#Creating the plot figure:\n",
    "\n",
    "x = Position[:-1]\n",
    "y = q_0_new[:-1]\n",
    "\n",
    "\n",
    "plt.plot(x, y, color='blue', linewidth=2)\n",
    "plt.ylabel('Displacement direction 0 [m]')\n",
    "plt.xlabel('Blade radius [m]')\n",
    "plt.title('Displacement along spanwise on direction 0');"
   ]
  },
  {
   "cell_type": "code",
   "execution_count": 30,
   "metadata": {},
   "outputs": [
    {
     "data": {
      "image/png": "[encoded data removed]",
      "text/plain": [
       "<Figure size 432x288 with 1 Axes>"
      ]
     },
     "metadata": {
      "needs_background": "light"
     },
     "output_type": "display_data"
    }
   ],
   "source": [
    "#Creating the plot figure:\n",
    "\n",
    "x = Position[:-1]\n",
    "#y = ((q_1_new[:-1]+(A_q/2))*math.exp(-beta*t)-(A_q/2))\n",
    "y = q_1_new[:-1]\n",
    "\n",
    "\n",
    "plt.plot(x, y, color='blue', linewidth=2)\n",
    "plt.ylabel('Displacement direction 1 [m]')\n",
    "plt.xlabel('Blade radius [m]')\n",
    "plt.title('Displacement along spanwise on direction 1');"
   ]
  },
  {
   "cell_type": "markdown",
   "metadata": {},
   "source": [
    "## 4.2.1 ROOT BENDING MOMENT OVER THE TIME"
   ]
  },
  {
   "cell_type": "code",
   "execution_count": 31,
   "metadata": {},
   "outputs": [
    {
     "data": {
      "image/png": "[encoded data removed]",
      "text/plain": [
       "<Figure size 432x288 with 1 Axes>"
      ]
     },
     "metadata": {
      "needs_background": "light"
     },
     "output_type": "display_data"
    }
   ],
   "source": [
    "#Creating the plot figure:\n",
    "\n",
    "x = Time[:-1]\n",
    "y = Root_M_0[:-1]\n",
    "\n",
    "\n",
    "plt.plot(x, y, color='blue', linewidth=2)\n",
    "plt.ylabel('Root bending Moment 0 [N·m]')\n",
    "plt.xlabel('Time [s]')\n",
    "plt.title('Root bending Moment 0');"
   ]
  },
  {
   "cell_type": "code",
   "execution_count": 32,
   "metadata": {},
   "outputs": [
    {
     "data": {
      "image/png": "[encoded data removed]",
      "text/plain": [
       "<Figure size 432x288 with 1 Axes>"
      ]
     },
     "metadata": {
      "needs_background": "light"
     },
     "output_type": "display_data"
    }
   ],
   "source": [
    "#Creating the plot figure:\n",
    "\n",
    "x = Time[:-1]\n",
    "y = Root_M_1[:-1]\n",
    "\n",
    "\n",
    "plt.plot(x, y, color='blue', linewidth=2)\n",
    "plt.ylabel('Root bending Moment 1 [N·m]')\n",
    "plt.xlabel('Time [s]')\n",
    "plt.title('Root bending Moment 1');"
   ]
  },
  {
   "cell_type": "markdown",
   "metadata": {},
   "source": [
    "## 4.2.2 BENDING MOMENT IN THE BLADE"
   ]
  },
  {
   "cell_type": "code",
   "execution_count": 33,
   "metadata": {},
   "outputs": [
    {
     "data": {
      "image/png": "[encoded data removed]",
      "text/plain": [
       "<Figure size 432x288 with 1 Axes>"
      ]
     },
     "metadata": {
      "needs_background": "light"
     },
     "output_type": "display_data"
    }
   ],
   "source": [
    "#Creating the plot figure:\n",
    "\n",
    "x = Position[:-1]\n",
    "y = M_0_new[:-1]\n",
    "\n",
    "\n",
    "plt.plot(x, y, color='blue', linewidth=2)\n",
    "plt.ylabel('Bending Moment 0 [N·m]')\n",
    "plt.xlabel('Blade radius [m]')\n",
    "plt.title('Bending Moment 0 over the spanwise');"
   ]
  },
  {
   "cell_type": "code",
   "execution_count": 34,
   "metadata": {},
   "outputs": [
    {
     "data": {
      "image/png": "[encoded data removed]",
      "text/plain": [
       "<Figure size 432x288 with 1 Axes>"
      ]
     },
     "metadata": {
      "needs_background": "light"
     },
     "output_type": "display_data"
    }
   ],
   "source": [
    "#Creating the plot figure:\n",
    "\n",
    "x = Position[:-1]\n",
    "y = M_1_new[:-1]\n",
    "\n",
    "\n",
    "plt.plot(x, y, color='blue', linewidth=2)\n",
    "plt.ylabel('Bending Moment 1 [N·m]')\n",
    "plt.xlabel('Blade radius [m]')\n",
    "plt.title('Bending Moment 1 over the spanwise');"
   ]
  },
  {
   "cell_type": "markdown",
   "metadata": {},
   "source": [
    "## 4.3.1 TIP VELOCITY DISPLACEMENT OVER THE TIME "
   ]
  },
  {
   "cell_type": "code",
   "execution_count": 35,
   "metadata": {},
   "outputs": [
    {
     "data": {
      "image/png": "[encoded data removed]",
      "text/plain": [
       "<Figure size 432x288 with 1 Axes>"
      ]
     },
     "metadata": {
      "needs_background": "light"
     },
     "output_type": "display_data"
    }
   ],
   "source": [
    "#Creating the plot figure:\n",
    "\n",
    "x = Time[:-1]\n",
    "y = Tip_V_0[:-1]\n",
    "\n",
    "plt.plot(x, y, color='blue', linewidth=2)\n",
    "plt.ylabel('Tip Velocity direction 0 [m/s]')\n",
    "plt.xlabel('Time [s]')\n",
    "plt.title('Tip Velocity direction 0');"
   ]
  },
  {
   "cell_type": "code",
   "execution_count": 36,
   "metadata": {},
   "outputs": [
    {
     "data": {
      "image/png": "[encoded data removed]",
      "text/plain": [
       "<Figure size 432x288 with 1 Axes>"
      ]
     },
     "metadata": {
      "needs_background": "light"
     },
     "output_type": "display_data"
    }
   ],
   "source": [
    "#Creating the plot figure:\n",
    "\n",
    "x = Time[:-1]\n",
    "y = Tip_V_1[:-1]\n",
    "\n",
    "plt.plot(x, y, color='blue', linewidth=2)\n",
    "plt.ylabel('Tip Velocity direction 1 [m/s]')\n",
    "plt.xlabel('Time [s]')\n",
    "plt.title('Tip Velocity direction 1');"
   ]
  },
  {
   "cell_type": "markdown",
   "metadata": {},
   "source": [
    "## 4.3.2 VELOCITY OF DISPLACEMENT IN THE BLADE"
   ]
  },
  {
   "cell_type": "code",
   "execution_count": 37,
   "metadata": {},
   "outputs": [
    {
     "data": {
      "image/png": "[encoded data removed]",
      "text/plain": [
       "<Figure size 432x288 with 1 Axes>"
      ]
     },
     "metadata": {
      "needs_background": "light"
     },
     "output_type": "display_data"
    }
   ],
   "source": [
    "#Creating the plot figure:\n",
    "\n",
    "x = Position[:-1]\n",
    "y = V_0_new[:-1]\n",
    "\n",
    "\n",
    "plt.plot(x, y, color='blue', linewidth=2)\n",
    "plt.ylabel('Tip Velocity direction 0 [m/s]')\n",
    "plt.xlabel('Blade radius [m]')\n",
    "plt.title('Tip Velocity along spanwise on direction 0');"
   ]
  },
  {
   "cell_type": "code",
   "execution_count": 38,
   "metadata": {},
   "outputs": [
    {
     "data": {
      "image/png": "[encoded data removed]",
      "text/plain": [
       "<Figure size 432x288 with 1 Axes>"
      ]
     },
     "metadata": {
      "needs_background": "light"
     },
     "output_type": "display_data"
    }
   ],
   "source": [
    "#Creating the plot figure:\n",
    "\n",
    "x = Position[:-1]\n",
    "y = V_1_new[:-1]\n",
    "\n",
    "\n",
    "plt.plot(x, y, color='blue', linewidth=2)\n",
    "plt.ylabel('Tip Velocity direction 1 [m/s]')\n",
    "plt.xlabel('Blade radius [m]')\n",
    "plt.title('Tip Velocity along spanwise on direction 1');"
   ]
  },
  {
   "cell_type": "code",
   "execution_count": 39,
   "metadata": {},
   "outputs": [
    {
     "ename": "NameError",
     "evalue": "name 'maxim' is not defined",
     "output_type": "error",
     "traceback": [
      "\u001b[1;31m---------------------------------------------------------------------------\u001b[0m",
      "\u001b[1;31mNameError\u001b[0m                                 Traceback (most recent call last)",
      "\u001b[1;32m<ipython-input-39-6dce45a9e2de>\u001b[0m in \u001b[0;36m<module>\u001b[1;34m\u001b[0m\n\u001b[1;32m----> 1\u001b[1;33m \u001b[0mmaxim\u001b[0m\u001b[1;33m(\u001b[0m\u001b[0mT\u001b[0m\u001b[1;33m,\u001b[0m\u001b[0mtotal_time\u001b[0m\u001b[1;33m,\u001b[0m\u001b[0mRoot_M_1\u001b[0m\u001b[1;33m)\u001b[0m\u001b[1;33m\u001b[0m\u001b[1;33m\u001b[0m\u001b[0m\n\u001b[0m",
      "\u001b[1;31mNameError\u001b[0m: name 'maxim' is not defined"
     ]
    }
   ],
   "source": [
    "maxim(T,total_time,Root_M_1)"
   ]
  },
  {
   "cell_type": "code",
   "execution_count": null,
   "metadata": {},
   "outputs": [],
   "source": [
    "minim(T,total_time,Root_M_1)"
   ]
  },
  {
   "cell_type": "code",
   "execution_count": null,
   "metadata": {},
   "outputs": [],
   "source": [
    "amplitud(maxim(T,total_time,Root_M_1),minim(T,total_time,Root_M_1))"
   ]
  },
  {
   "cell_type": "code",
   "execution_count": null,
   "metadata": {},
   "outputs": [],
   "source": []
  }
 ],
 "metadata": {
  "kernelspec": {
   "display_name": "Python 3",
   "language": "python",
   "name": "python3"
  },
  "language_info": {
   "codemirror_mode": {
    "name": "ipython",
    "version": 3
   },
   "file_extension": ".py",
   "mimetype": "text/x-python",
   "name": "python",
   "nbconvert_exporter": "python",
   "pygments_lexer": "ipython3",
   "version": "3.8.5"
  }
 },
 "nbformat": 4,
 "nbformat_minor": 4
}
