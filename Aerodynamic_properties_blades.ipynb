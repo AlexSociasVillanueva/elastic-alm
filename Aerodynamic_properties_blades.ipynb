{
 "cells": [
  {
   "cell_type": "markdown",
   "metadata": {},
   "source": [
    "# AERODYNAMICS PROPERTIES BLADES"
   ]
  },
  {
   "cell_type": "code",
   "execution_count": 1,
   "metadata": {},
   "outputs": [],
   "source": [
    "import pandas as pd\n",
    "import numpy as np\n",
    "import matplotlib.pyplot as plt\n",
    "import matplotlib\n",
    "import seaborn as sns\n",
    "from datetime import datetime, date, time\n",
    "import warnings\n",
    "warnings.filterwarnings('ignore')"
   ]
  },
  {
   "cell_type": "markdown",
   "metadata": {},
   "source": [
    "## DU21-A17"
   ]
  },
  {
   "cell_type": "code",
   "execution_count": 2,
   "metadata": {},
   "outputs": [],
   "source": [
    "#Defining the location of the data folder \n",
    "DATA_FOLDER = 'Desktop/PLOTS_DATA_WIND_TURBINES/Aerodynamics_properties_blades/Data/'\n",
    "\n",
    "#Definition of the data path\n",
    "DATASET1 = DATA_FOLDER + \"Drag DU21-A17_pi.csv\"\n",
    "DATASET2 = DATA_FOLDER + \"Lift DU21-A17_pi.csv\"\n",
    "\n",
    "#Load of the compressed files in a specific way in function of the type of data file \n",
    "df_drag_DU21 = pd.read_csv(DATASET1,sep =';',decimal=\",\")\n",
    "df_lift_DU21 = pd.read_csv(DATASET2,sep =';',decimal=\",\")\n",
    "\n",
    "\n",
    "#Defining the columns names of the uploaded dataframe\n",
    "df_drag_DU21.columns=[\"Angle_of_attack\", \"Cd\"]\n",
    "df_lift_DU21.columns=[\"Angle_of_attack\", \"Cl\"]"
   ]
  },
  {
   "cell_type": "code",
   "execution_count": 3,
   "metadata": {},
   "outputs": [
    {
     "data": {
      "text/html": [
       "<div>\n",
       "<style scoped>\n",
       "    .dataframe tbody tr th:only-of-type {\n",
       "        vertical-align: middle;\n",
       "    }\n",
       "\n",
       "    .dataframe tbody tr th {\n",
       "        vertical-align: top;\n",
       "    }\n",
       "\n",
       "    .dataframe thead th {\n",
       "        text-align: right;\n",
       "    }\n",
       "</style>\n",
       "<table border=\"1\" class=\"dataframe\">\n",
       "  <thead>\n",
       "    <tr style=\"text-align: right;\">\n",
       "      <th></th>\n",
       "      <th>Angle_of_attack</th>\n",
       "      <th>Cd</th>\n",
       "    </tr>\n",
       "  </thead>\n",
       "  <tbody>\n",
       "    <tr>\n",
       "      <th>0</th>\n",
       "      <td>-170.945794</td>\n",
       "      <td>0.082583</td>\n",
       "    </tr>\n",
       "    <tr>\n",
       "      <th>1</th>\n",
       "      <td>-165.663563</td>\n",
       "      <td>0.179339</td>\n",
       "    </tr>\n",
       "    <tr>\n",
       "      <th>2</th>\n",
       "      <td>-160.333311</td>\n",
       "      <td>0.290632</td>\n",
       "    </tr>\n",
       "    <tr>\n",
       "      <th>3</th>\n",
       "      <td>-155.339202</td>\n",
       "      <td>0.391463</td>\n",
       "    </tr>\n",
       "    <tr>\n",
       "      <th>4</th>\n",
       "      <td>-150.537173</td>\n",
       "      <td>0.503497</td>\n",
       "    </tr>\n",
       "  </tbody>\n",
       "</table>\n",
       "</div>"
      ],
      "text/plain": [
       "   Angle_of_attack        Cd\n",
       "0      -170.945794  0.082583\n",
       "1      -165.663563  0.179339\n",
       "2      -160.333311  0.290632\n",
       "3      -155.339202  0.391463\n",
       "4      -150.537173  0.503497"
      ]
     },
     "execution_count": 3,
     "metadata": {},
     "output_type": "execute_result"
    }
   ],
   "source": [
    "df_drag_DU21.head()"
   ]
  },
  {
   "cell_type": "code",
   "execution_count": 4,
   "metadata": {},
   "outputs": [
    {
     "data": {
      "text/html": [
       "<div>\n",
       "<style scoped>\n",
       "    .dataframe tbody tr th:only-of-type {\n",
       "        vertical-align: middle;\n",
       "    }\n",
       "\n",
       "    .dataframe tbody tr th {\n",
       "        vertical-align: top;\n",
       "    }\n",
       "\n",
       "    .dataframe thead th {\n",
       "        text-align: right;\n",
       "    }\n",
       "</style>\n",
       "<table border=\"1\" class=\"dataframe\">\n",
       "  <thead>\n",
       "    <tr style=\"text-align: right;\">\n",
       "      <th></th>\n",
       "      <th>Angle_of_attack</th>\n",
       "      <th>Cl</th>\n",
       "    </tr>\n",
       "  </thead>\n",
       "  <tbody>\n",
       "    <tr>\n",
       "      <th>0</th>\n",
       "      <td>-177.188431</td>\n",
       "      <td>0.232579</td>\n",
       "    </tr>\n",
       "    <tr>\n",
       "      <th>1</th>\n",
       "      <td>-175.747822</td>\n",
       "      <td>0.342915</td>\n",
       "    </tr>\n",
       "    <tr>\n",
       "      <th>2</th>\n",
       "      <td>-174.307214</td>\n",
       "      <td>0.454949</td>\n",
       "    </tr>\n",
       "    <tr>\n",
       "      <th>3</th>\n",
       "      <td>-172.866605</td>\n",
       "      <td>0.568680</td>\n",
       "    </tr>\n",
       "    <tr>\n",
       "      <th>4</th>\n",
       "      <td>-171.425997</td>\n",
       "      <td>0.680714</td>\n",
       "    </tr>\n",
       "  </tbody>\n",
       "</table>\n",
       "</div>"
      ],
      "text/plain": [
       "   Angle_of_attack        Cl\n",
       "0      -177.188431  0.232579\n",
       "1      -175.747822  0.342915\n",
       "2      -174.307214  0.454949\n",
       "3      -172.866605  0.568680\n",
       "4      -171.425997  0.680714"
      ]
     },
     "execution_count": 4,
     "metadata": {},
     "output_type": "execute_result"
    }
   ],
   "source": [
    "df_lift_DU21.head()"
   ]
  },
  {
   "cell_type": "code",
   "execution_count": 5,
   "metadata": {},
   "outputs": [],
   "source": [
    "#We need convert object type numbers into a more convenient form to be able to make the plots:\n",
    "\n",
    "x1 = df_drag_DU21[\"Angle_of_attack\"].astype(float, errors = 'raise')\n",
    "y1 = df_drag_DU21[\"Cd\"].astype(float, errors = 'raise')\n",
    "\n",
    "x2 = df_lift_DU21[\"Angle_of_attack\"].astype(float, errors = 'raise')\n",
    "y2 = df_lift_DU21[\"Cl\"].astype(float, errors = 'raise')"
   ]
  },
  {
   "cell_type": "code",
   "execution_count": 6,
   "metadata": {},
   "outputs": [
    {
     "data": {
      "text/plain": [
       "Text(0.5, 1.0, 'Aerodynamics coefficients of DU21-A17 airfoil')"
      ]
     },
     "execution_count": 6,
     "metadata": {},
     "output_type": "execute_result"
    },
    {
     "data": {
      "image/png": "[encoded data removed]",
      "text/plain": [
       "<Figure size 432x288 with 1 Axes>"
      ]
     },
     "metadata": {
      "needs_background": "light"
     },
     "output_type": "display_data"
    }
   ],
   "source": [
    "#Creating the plot figure:\n",
    "\n",
    "plt.plot(x1, y1, color='red', label='Cd: drag coef.',linewidth=2)\n",
    "plt.plot(x2, y2, color='blue', label='Cl: lift coef.',linewidth=2)\n",
    "plt.xlabel('Angle of attack [degrees]')\n",
    "plt.ylabel('Cl & Cd, lift and drag coefficient')\n",
    "plt.legend(loc='best')\n",
    "plt.title('Aerodynamics coefficients of DU21-A17 airfoil')"
   ]
  },
  {
   "cell_type": "markdown",
   "metadata": {},
   "source": [
    "## DU25-A17"
   ]
  },
  {
   "cell_type": "code",
   "execution_count": 7,
   "metadata": {},
   "outputs": [],
   "source": [
    "#Defining the location of the data folder \n",
    "DATA_FOLDER = 'Desktop/PLOTS_DATA_WIND_TURBINES/Aerodynamics_properties_blades/Data/'\n",
    "\n",
    "#Definition of the data path\n",
    "DATASET1 = DATA_FOLDER + \"Drag DU25-A17_pi.csv\"\n",
    "DATASET2 = DATA_FOLDER + \"Lift DU25-A17_pi.csv\"\n",
    "\n",
    "#Load of the compressed files in a specific way in function of the type of data file \n",
    "df_drag_DU25 = pd.read_csv(DATASET1,sep =';',decimal=\",\")\n",
    "df_lift_DU25 = pd.read_csv(DATASET2,sep =';',decimal=\",\")\n",
    "\n",
    "\n",
    "#Defining the columns names of the uploaded dataframe\n",
    "df_drag_DU25.columns=[\"Angle_of_attack\", \"Cd\"]\n",
    "df_lift_DU25.columns=[\"Angle_of_attack\", \"Cl\"]"
   ]
  },
  {
   "cell_type": "code",
   "execution_count": 8,
   "metadata": {},
   "outputs": [
    {
     "data": {
      "text/html": [
       "<div>\n",
       "<style scoped>\n",
       "    .dataframe tbody tr th:only-of-type {\n",
       "        vertical-align: middle;\n",
       "    }\n",
       "\n",
       "    .dataframe tbody tr th {\n",
       "        vertical-align: top;\n",
       "    }\n",
       "\n",
       "    .dataframe thead th {\n",
       "        text-align: right;\n",
       "    }\n",
       "</style>\n",
       "<table border=\"1\" class=\"dataframe\">\n",
       "  <thead>\n",
       "    <tr style=\"text-align: right;\">\n",
       "      <th></th>\n",
       "      <th>Angle_of_attack</th>\n",
       "      <th>Cd</th>\n",
       "    </tr>\n",
       "  </thead>\n",
       "  <tbody>\n",
       "    <tr>\n",
       "      <th>0</th>\n",
       "      <td>-171.199101</td>\n",
       "      <td>0.095704</td>\n",
       "    </tr>\n",
       "    <tr>\n",
       "      <th>1</th>\n",
       "      <td>-164.860430</td>\n",
       "      <td>0.212539</td>\n",
       "    </tr>\n",
       "    <tr>\n",
       "      <th>2</th>\n",
       "      <td>-159.098002</td>\n",
       "      <td>0.330864</td>\n",
       "    </tr>\n",
       "    <tr>\n",
       "      <th>3</th>\n",
       "      <td>-153.623695</td>\n",
       "      <td>0.447688</td>\n",
       "    </tr>\n",
       "    <tr>\n",
       "      <th>4</th>\n",
       "      <td>-148.149388</td>\n",
       "      <td>0.579490</td>\n",
       "    </tr>\n",
       "  </tbody>\n",
       "</table>\n",
       "</div>"
      ],
      "text/plain": [
       "   Angle_of_attack        Cd\n",
       "0      -171.199101  0.095704\n",
       "1      -164.860430  0.212539\n",
       "2      -159.098002  0.330864\n",
       "3      -153.623695  0.447688\n",
       "4      -148.149388  0.579490"
      ]
     },
     "execution_count": 8,
     "metadata": {},
     "output_type": "execute_result"
    }
   ],
   "source": [
    "df_drag_DU25.head()"
   ]
  },
  {
   "cell_type": "code",
   "execution_count": 9,
   "metadata": {},
   "outputs": [
    {
     "data": {
      "text/html": [
       "<div>\n",
       "<style scoped>\n",
       "    .dataframe tbody tr th:only-of-type {\n",
       "        vertical-align: middle;\n",
       "    }\n",
       "\n",
       "    .dataframe tbody tr th {\n",
       "        vertical-align: top;\n",
       "    }\n",
       "\n",
       "    .dataframe thead th {\n",
       "        text-align: right;\n",
       "    }\n",
       "</style>\n",
       "<table border=\"1\" class=\"dataframe\">\n",
       "  <thead>\n",
       "    <tr style=\"text-align: right;\">\n",
       "      <th></th>\n",
       "      <th>Angle_of_attack</th>\n",
       "      <th>Cl</th>\n",
       "    </tr>\n",
       "  </thead>\n",
       "  <tbody>\n",
       "    <tr>\n",
       "      <th>0</th>\n",
       "      <td>-176.961529</td>\n",
       "      <td>0.248417</td>\n",
       "    </tr>\n",
       "    <tr>\n",
       "      <th>1</th>\n",
       "      <td>-174.944679</td>\n",
       "      <td>0.393075</td>\n",
       "    </tr>\n",
       "    <tr>\n",
       "      <th>2</th>\n",
       "      <td>-172.639708</td>\n",
       "      <td>0.558471</td>\n",
       "    </tr>\n",
       "    <tr>\n",
       "      <th>3</th>\n",
       "      <td>-168.317887</td>\n",
       "      <td>0.721598</td>\n",
       "    </tr>\n",
       "    <tr>\n",
       "      <th>4</th>\n",
       "      <td>-161.979216</td>\n",
       "      <td>0.714782</td>\n",
       "    </tr>\n",
       "  </tbody>\n",
       "</table>\n",
       "</div>"
      ],
      "text/plain": [
       "   Angle_of_attack        Cl\n",
       "0      -176.961529  0.248417\n",
       "1      -174.944679  0.393075\n",
       "2      -172.639708  0.558471\n",
       "3      -168.317887  0.721598\n",
       "4      -161.979216  0.714782"
      ]
     },
     "execution_count": 9,
     "metadata": {},
     "output_type": "execute_result"
    }
   ],
   "source": [
    "df_lift_DU25.head()"
   ]
  },
  {
   "cell_type": "code",
   "execution_count": 10,
   "metadata": {},
   "outputs": [],
   "source": [
    "#We need convert object type numbers into a more convenient form to be able to make the plots:\n",
    "\n",
    "x1 = df_drag_DU25[\"Angle_of_attack\"].astype(float, errors = 'raise')\n",
    "y1 = df_drag_DU25[\"Cd\"].astype(float, errors = 'raise')\n",
    "\n",
    "x2 = df_lift_DU25[\"Angle_of_attack\"].astype(float, errors = 'raise')\n",
    "y2 = df_lift_DU25[\"Cl\"].astype(float, errors = 'raise')"
   ]
  },
  {
   "cell_type": "code",
   "execution_count": 11,
   "metadata": {},
   "outputs": [
    {
     "data": {
      "text/plain": [
       "Text(0.5, 1.0, 'Aerodynamics coefficients of DU25-A17 airfoil')"
      ]
     },
     "execution_count": 11,
     "metadata": {},
     "output_type": "execute_result"
    },
    {
     "data": {
      "image/png": "[encoded data removed]",
      "text/plain": [
       "<Figure size 432x288 with 1 Axes>"
      ]
     },
     "metadata": {
      "needs_background": "light"
     },
     "output_type": "display_data"
    }
   ],
   "source": [
    "#Creating the plot figure:\n",
    "\n",
    "plt.plot(x1, y1, color='red', label='Cd: drag coef.',linewidth=2)\n",
    "plt.plot(x2, y2, color='blue', label='Cl: lift coef.',linewidth=2)\n",
    "plt.xlabel('Angle of attack [degrees]')\n",
    "plt.ylabel('Cl & Cd, lift and drag coefficient')\n",
    "plt.legend(loc='best')\n",
    "plt.title('Aerodynamics coefficients of DU25-A17 airfoil')"
   ]
  },
  {
   "cell_type": "markdown",
   "metadata": {},
   "source": [
    "## DU30-A17"
   ]
  },
  {
   "cell_type": "code",
   "execution_count": 12,
   "metadata": {},
   "outputs": [],
   "source": [
    "#Defining the location of the data folder \n",
    "DATA_FOLDER = 'Desktop/PLOTS_DATA_WIND_TURBINES/Aerodynamics_properties_blades/Data/'\n",
    "\n",
    "#Definition of the data path\n",
    "DATASET1 = DATA_FOLDER + \"Drag DU30-A17_pi.csv\"\n",
    "DATASET2 = DATA_FOLDER + \"Lift DU30-A17_pi.csv\"\n",
    "\n",
    "#Load of the compressed files in a specific way in function of the type of data file \n",
    "df_drag_DU30 = pd.read_csv(DATASET1,sep =';',decimal=\",\")\n",
    "df_lift_DU30 = pd.read_csv(DATASET2,sep =';',decimal=\",\")\n",
    "\n",
    "\n",
    "#Defining the columns names of the uploaded dataframe\n",
    "df_drag_DU30.columns=[\"Angle_of_attack\", \"Cd\"]\n",
    "df_lift_DU30.columns=[\"Angle_of_attack\", \"Cl\"]"
   ]
  },
  {
   "cell_type": "code",
   "execution_count": 13,
   "metadata": {},
   "outputs": [
    {
     "data": {
      "text/html": [
       "<div>\n",
       "<style scoped>\n",
       "    .dataframe tbody tr th:only-of-type {\n",
       "        vertical-align: middle;\n",
       "    }\n",
       "\n",
       "    .dataframe tbody tr th {\n",
       "        vertical-align: top;\n",
       "    }\n",
       "\n",
       "    .dataframe thead th {\n",
       "        text-align: right;\n",
       "    }\n",
       "</style>\n",
       "<table border=\"1\" class=\"dataframe\">\n",
       "  <thead>\n",
       "    <tr style=\"text-align: right;\">\n",
       "      <th></th>\n",
       "      <th>Angle_of_attack</th>\n",
       "      <th>Cd</th>\n",
       "    </tr>\n",
       "  </thead>\n",
       "  <tbody>\n",
       "    <tr>\n",
       "      <th>0</th>\n",
       "      <td>-172.312304</td>\n",
       "      <td>0.067109</td>\n",
       "    </tr>\n",
       "    <tr>\n",
       "      <th>1</th>\n",
       "      <td>-167.014374</td>\n",
       "      <td>0.149576</td>\n",
       "    </tr>\n",
       "    <tr>\n",
       "      <th>2</th>\n",
       "      <td>-161.957260</td>\n",
       "      <td>0.253865</td>\n",
       "    </tr>\n",
       "    <tr>\n",
       "      <th>3</th>\n",
       "      <td>-156.900146</td>\n",
       "      <td>0.359914</td>\n",
       "    </tr>\n",
       "    <tr>\n",
       "      <th>4</th>\n",
       "      <td>-152.083846</td>\n",
       "      <td>0.471929</td>\n",
       "    </tr>\n",
       "  </tbody>\n",
       "</table>\n",
       "</div>"
      ],
      "text/plain": [
       "   Angle_of_attack        Cd\n",
       "0      -172.312304  0.067109\n",
       "1      -167.014374  0.149576\n",
       "2      -161.957260  0.253865\n",
       "3      -156.900146  0.359914\n",
       "4      -152.083846  0.471929"
      ]
     },
     "execution_count": 13,
     "metadata": {},
     "output_type": "execute_result"
    }
   ],
   "source": [
    "df_drag_DU30.head()"
   ]
  },
  {
   "cell_type": "code",
   "execution_count": 14,
   "metadata": {},
   "outputs": [
    {
     "data": {
      "text/html": [
       "<div>\n",
       "<style scoped>\n",
       "    .dataframe tbody tr th:only-of-type {\n",
       "        vertical-align: middle;\n",
       "    }\n",
       "\n",
       "    .dataframe tbody tr th {\n",
       "        vertical-align: top;\n",
       "    }\n",
       "\n",
       "    .dataframe thead th {\n",
       "        text-align: right;\n",
       "    }\n",
       "</style>\n",
       "<table border=\"1\" class=\"dataframe\">\n",
       "  <thead>\n",
       "    <tr style=\"text-align: right;\">\n",
       "      <th></th>\n",
       "      <th>Angle_of_attack</th>\n",
       "      <th>Cl</th>\n",
       "    </tr>\n",
       "  </thead>\n",
       "  <tbody>\n",
       "    <tr>\n",
       "      <th>0</th>\n",
       "      <td>-175.683713</td>\n",
       "      <td>0.240105</td>\n",
       "    </tr>\n",
       "    <tr>\n",
       "      <th>1</th>\n",
       "      <td>-173.275564</td>\n",
       "      <td>0.368531</td>\n",
       "    </tr>\n",
       "    <tr>\n",
       "      <th>2</th>\n",
       "      <td>-170.867414</td>\n",
       "      <td>0.492881</td>\n",
       "    </tr>\n",
       "    <tr>\n",
       "      <th>3</th>\n",
       "      <td>-167.014374</td>\n",
       "      <td>0.585077</td>\n",
       "    </tr>\n",
       "    <tr>\n",
       "      <th>4</th>\n",
       "      <td>-161.716445</td>\n",
       "      <td>0.662911</td>\n",
       "    </tr>\n",
       "  </tbody>\n",
       "</table>\n",
       "</div>"
      ],
      "text/plain": [
       "   Angle_of_attack        Cl\n",
       "0      -175.683713  0.240105\n",
       "1      -173.275564  0.368531\n",
       "2      -170.867414  0.492881\n",
       "3      -167.014374  0.585077\n",
       "4      -161.716445  0.662911"
      ]
     },
     "execution_count": 14,
     "metadata": {},
     "output_type": "execute_result"
    }
   ],
   "source": [
    "df_lift_DU30.head()"
   ]
  },
  {
   "cell_type": "code",
   "execution_count": 15,
   "metadata": {},
   "outputs": [],
   "source": [
    "#We need convert object type numbers into a more convenient form to be able to make the plots:\n",
    "\n",
    "x1 = df_drag_DU30[\"Angle_of_attack\"].astype(float, errors = 'raise')\n",
    "y1 = df_drag_DU30[\"Cd\"].astype(float, errors = 'raise')\n",
    "\n",
    "x2 = df_lift_DU30[\"Angle_of_attack\"].astype(float, errors = 'raise')\n",
    "y2 = df_lift_DU30[\"Cl\"].astype(float, errors = 'raise')"
   ]
  },
  {
   "cell_type": "code",
   "execution_count": 16,
   "metadata": {},
   "outputs": [
    {
     "data": {
      "text/plain": [
       "Text(0.5, 1.0, 'Aerodynamics coefficients of DU30-A17 airfoil')"
      ]
     },
     "execution_count": 16,
     "metadata": {},
     "output_type": "execute_result"
    },
    {
     "data": {
      "image/png": "[encoded data removed]",
      "text/plain": [
       "<Figure size 432x288 with 1 Axes>"
      ]
     },
     "metadata": {
      "needs_background": "light"
     },
     "output_type": "display_data"
    }
   ],
   "source": [
    "#Creating the plot figure:\n",
    "\n",
    "plt.plot(x1, y1, color='red', label='Cd: drag coef.',linewidth=2)\n",
    "plt.plot(x2, y2, color='blue', label='Cl: lift coef.',linewidth=2)\n",
    "plt.xlabel('Angle of attack [degrees]')\n",
    "plt.ylabel('Cl & Cd, lift and drag coefficient')\n",
    "plt.legend(loc='best')\n",
    "plt.title('Aerodynamics coefficients of DU30-A17 airfoil')"
   ]
  },
  {
   "cell_type": "markdown",
   "metadata": {},
   "source": [
    "## DU35-A17"
   ]
  },
  {
   "cell_type": "code",
   "execution_count": 17,
   "metadata": {},
   "outputs": [],
   "source": [
    "#Defining the location of the data folder \n",
    "DATA_FOLDER = 'Desktop/PLOTS_DATA_WIND_TURBINES/Aerodynamics_properties_blades/Data/'\n",
    "\n",
    "#Definition of the data path\n",
    "DATASET1 = DATA_FOLDER + \"Drag DU35-A17_pi.csv\"\n",
    "DATASET2 = DATA_FOLDER + \"Lift DU35-A17_pi.csv\"\n",
    "\n",
    "#Load of the compressed files in a specific way in function of the type of data file \n",
    "df_drag_DU35 = pd.read_csv(DATASET1,sep =';',decimal=\",\")\n",
    "df_lift_DU35 = pd.read_csv(DATASET2,sep =';',decimal=\",\")\n",
    "\n",
    "\n",
    "#Defining the columns names of the uploaded dataframe\n",
    "df_drag_DU35.columns=[\"Angle_of_attack\", \"Cd\"]\n",
    "df_lift_DU35.columns=[\"Angle_of_attack\", \"Cl\"]"
   ]
  },
  {
   "cell_type": "code",
   "execution_count": 18,
   "metadata": {},
   "outputs": [
    {
     "data": {
      "text/html": [
       "<div>\n",
       "<style scoped>\n",
       "    .dataframe tbody tr th:only-of-type {\n",
       "        vertical-align: middle;\n",
       "    }\n",
       "\n",
       "    .dataframe tbody tr th {\n",
       "        vertical-align: top;\n",
       "    }\n",
       "\n",
       "    .dataframe thead th {\n",
       "        text-align: right;\n",
       "    }\n",
       "</style>\n",
       "<table border=\"1\" class=\"dataframe\">\n",
       "  <thead>\n",
       "    <tr style=\"text-align: right;\">\n",
       "      <th></th>\n",
       "      <th>Angle_of_attack</th>\n",
       "      <th>Cd</th>\n",
       "    </tr>\n",
       "  </thead>\n",
       "  <tbody>\n",
       "    <tr>\n",
       "      <th>0</th>\n",
       "      <td>-172.146687</td>\n",
       "      <td>0.079342</td>\n",
       "    </tr>\n",
       "    <tr>\n",
       "      <th>1</th>\n",
       "      <td>-166.865948</td>\n",
       "      <td>0.158015</td>\n",
       "    </tr>\n",
       "    <tr>\n",
       "      <th>2</th>\n",
       "      <td>-161.859533</td>\n",
       "      <td>0.270675</td>\n",
       "    </tr>\n",
       "    <tr>\n",
       "      <th>3</th>\n",
       "      <td>-157.264604</td>\n",
       "      <td>0.357116</td>\n",
       "    </tr>\n",
       "    <tr>\n",
       "      <th>4</th>\n",
       "      <td>-152.223899</td>\n",
       "      <td>0.472007</td>\n",
       "    </tr>\n",
       "  </tbody>\n",
       "</table>\n",
       "</div>"
      ],
      "text/plain": [
       "   Angle_of_attack        Cd\n",
       "0      -172.146687  0.079342\n",
       "1      -166.865948  0.158015\n",
       "2      -161.859533  0.270675\n",
       "3      -157.264604  0.357116\n",
       "4      -152.223899  0.472007"
      ]
     },
     "execution_count": 18,
     "metadata": {},
     "output_type": "execute_result"
    }
   ],
   "source": [
    "df_drag_DU35.head()"
   ]
  },
  {
   "cell_type": "code",
   "execution_count": 19,
   "metadata": {},
   "outputs": [
    {
     "data": {
      "text/html": [
       "<div>\n",
       "<style scoped>\n",
       "    .dataframe tbody tr th:only-of-type {\n",
       "        vertical-align: middle;\n",
       "    }\n",
       "\n",
       "    .dataframe tbody tr th {\n",
       "        vertical-align: top;\n",
       "    }\n",
       "\n",
       "    .dataframe thead th {\n",
       "        text-align: right;\n",
       "    }\n",
       "</style>\n",
       "<table border=\"1\" class=\"dataframe\">\n",
       "  <thead>\n",
       "    <tr style=\"text-align: right;\">\n",
       "      <th></th>\n",
       "      <th>Angle_of_attack</th>\n",
       "      <th>Cl</th>\n",
       "    </tr>\n",
       "  </thead>\n",
       "  <tbody>\n",
       "    <tr>\n",
       "      <th>0</th>\n",
       "      <td>-174.787057</td>\n",
       "      <td>0.222219</td>\n",
       "    </tr>\n",
       "    <tr>\n",
       "      <th>1</th>\n",
       "      <td>-171.906654</td>\n",
       "      <td>0.328391</td>\n",
       "    </tr>\n",
       "    <tr>\n",
       "      <th>2</th>\n",
       "      <td>-168.306150</td>\n",
       "      <td>0.442477</td>\n",
       "    </tr>\n",
       "    <tr>\n",
       "      <th>3</th>\n",
       "      <td>-163.985545</td>\n",
       "      <td>0.553993</td>\n",
       "    </tr>\n",
       "    <tr>\n",
       "      <th>4</th>\n",
       "      <td>-159.184873</td>\n",
       "      <td>0.666423</td>\n",
       "    </tr>\n",
       "  </tbody>\n",
       "</table>\n",
       "</div>"
      ],
      "text/plain": [
       "   Angle_of_attack        Cl\n",
       "0      -174.787057  0.222219\n",
       "1      -171.906654  0.328391\n",
       "2      -168.306150  0.442477\n",
       "3      -163.985545  0.553993\n",
       "4      -159.184873  0.666423"
      ]
     },
     "execution_count": 19,
     "metadata": {},
     "output_type": "execute_result"
    }
   ],
   "source": [
    "df_lift_DU35.head()"
   ]
  },
  {
   "cell_type": "code",
   "execution_count": 20,
   "metadata": {},
   "outputs": [],
   "source": [
    "#We need convert object type numbers into a more convenient form to be able to make the plots:\n",
    "\n",
    "x1 = df_drag_DU35[\"Angle_of_attack\"].astype(float, errors = 'raise')\n",
    "y1 = df_drag_DU35[\"Cd\"].astype(float, errors = 'raise')\n",
    "\n",
    "x2 = df_lift_DU35[\"Angle_of_attack\"].astype(float, errors = 'raise')\n",
    "y2 = df_lift_DU35[\"Cl\"].astype(float, errors = 'raise')"
   ]
  },
  {
   "cell_type": "code",
   "execution_count": 21,
   "metadata": {},
   "outputs": [
    {
     "data": {
      "text/plain": [
       "Text(0.5, 1.0, 'Aerodynamics coefficients of DU35-A17 airfoil')"
      ]
     },
     "execution_count": 21,
     "metadata": {},
     "output_type": "execute_result"
    },
    {
     "data": {
      "image/png": "[encoded data removed]",
      "text/plain": [
       "<Figure size 432x288 with 1 Axes>"
      ]
     },
     "metadata": {
      "needs_background": "light"
     },
     "output_type": "display_data"
    }
   ],
   "source": [
    "#Creating the plot figure:\n",
    "\n",
    "plt.plot(x1, y1, color='red', label='Cd: drag coef.',linewidth=2)\n",
    "plt.plot(x2, y2, color='blue', label='Cl: lift coef.',linewidth=2)\n",
    "plt.xlabel('Angle of attack [degrees]')\n",
    "plt.ylabel('Cl & Cd, lift and drag coefficient')\n",
    "plt.legend(loc='best')\n",
    "plt.title('Aerodynamics coefficients of DU35-A17 airfoil')"
   ]
  },
  {
   "cell_type": "markdown",
   "metadata": {},
   "source": [
    "## DU40-A17"
   ]
  },
  {
   "cell_type": "code",
   "execution_count": 22,
   "metadata": {},
   "outputs": [],
   "source": [
    "#Defining the location of the data folder \n",
    "DATA_FOLDER = 'Desktop/PLOTS_DATA_WIND_TURBINES/Aerodynamics_properties_blades/Data/'\n",
    "\n",
    "#Definition of the data path\n",
    "DATASET1 = DATA_FOLDER + \"Drag DU40-A17_pi.csv\"\n",
    "DATASET2 = DATA_FOLDER + \"Lift DU40-A17_pi.csv\"\n",
    "\n",
    "#Load of the compressed files in a specific way in function of the type of data file \n",
    "df_drag_DU40 = pd.read_csv(DATASET1,sep =';',decimal=\",\")\n",
    "df_lift_DU40 = pd.read_csv(DATASET2,sep =';',decimal=\",\")\n",
    "\n",
    "\n",
    "#Defining the columns names of the uploaded dataframe\n",
    "df_drag_DU40.columns=[\"Angle_of_attack\", \"Cd\"]\n",
    "df_lift_DU40.columns=[\"Angle_of_attack\", \"Cl\"]"
   ]
  },
  {
   "cell_type": "code",
   "execution_count": 23,
   "metadata": {},
   "outputs": [
    {
     "data": {
      "text/html": [
       "<div>\n",
       "<style scoped>\n",
       "    .dataframe tbody tr th:only-of-type {\n",
       "        vertical-align: middle;\n",
       "    }\n",
       "\n",
       "    .dataframe tbody tr th {\n",
       "        vertical-align: top;\n",
       "    }\n",
       "\n",
       "    .dataframe thead th {\n",
       "        text-align: right;\n",
       "    }\n",
       "</style>\n",
       "<table border=\"1\" class=\"dataframe\">\n",
       "  <thead>\n",
       "    <tr style=\"text-align: right;\">\n",
       "      <th></th>\n",
       "      <th>Angle_of_attack</th>\n",
       "      <th>Cd</th>\n",
       "    </tr>\n",
       "  </thead>\n",
       "  <tbody>\n",
       "    <tr>\n",
       "      <th>0</th>\n",
       "      <td>-172.282893</td>\n",
       "      <td>0.086906</td>\n",
       "    </tr>\n",
       "    <tr>\n",
       "      <th>1</th>\n",
       "      <td>-167.001321</td>\n",
       "      <td>0.158294</td>\n",
       "    </tr>\n",
       "    <tr>\n",
       "      <th>2</th>\n",
       "      <td>-162.131300</td>\n",
       "      <td>0.257629</td>\n",
       "    </tr>\n",
       "    <tr>\n",
       "      <th>3</th>\n",
       "      <td>-157.638534</td>\n",
       "      <td>0.358228</td>\n",
       "    </tr>\n",
       "    <tr>\n",
       "      <th>4</th>\n",
       "      <td>-152.837104</td>\n",
       "      <td>0.472449</td>\n",
       "    </tr>\n",
       "  </tbody>\n",
       "</table>\n",
       "</div>"
      ],
      "text/plain": [
       "   Angle_of_attack        Cd\n",
       "0      -172.282893  0.086906\n",
       "1      -167.001321  0.158294\n",
       "2      -162.131300  0.257629\n",
       "3      -157.638534  0.358228\n",
       "4      -152.837104  0.472449"
      ]
     },
     "execution_count": 23,
     "metadata": {},
     "output_type": "execute_result"
    }
   ],
   "source": [
    "df_drag_DU40.head()"
   ]
  },
  {
   "cell_type": "code",
   "execution_count": 24,
   "metadata": {},
   "outputs": [
    {
     "data": {
      "text/html": [
       "<div>\n",
       "<style scoped>\n",
       "    .dataframe tbody tr th:only-of-type {\n",
       "        vertical-align: middle;\n",
       "    }\n",
       "\n",
       "    .dataframe tbody tr th {\n",
       "        vertical-align: top;\n",
       "    }\n",
       "\n",
       "    .dataframe thead th {\n",
       "        text-align: right;\n",
       "    }\n",
       "</style>\n",
       "<table border=\"1\" class=\"dataframe\">\n",
       "  <thead>\n",
       "    <tr style=\"text-align: right;\">\n",
       "      <th></th>\n",
       "      <th>Angle_of_attack</th>\n",
       "      <th>Cl</th>\n",
       "    </tr>\n",
       "  </thead>\n",
       "  <tbody>\n",
       "    <tr>\n",
       "      <th>0</th>\n",
       "      <td>-175.403823</td>\n",
       "      <td>0.191825</td>\n",
       "    </tr>\n",
       "    <tr>\n",
       "      <th>1</th>\n",
       "      <td>-172.282893</td>\n",
       "      <td>0.307163</td>\n",
       "    </tr>\n",
       "    <tr>\n",
       "      <th>2</th>\n",
       "      <td>-168.681821</td>\n",
       "      <td>0.424899</td>\n",
       "    </tr>\n",
       "    <tr>\n",
       "      <th>3</th>\n",
       "      <td>-164.600606</td>\n",
       "      <td>0.531203</td>\n",
       "    </tr>\n",
       "    <tr>\n",
       "      <th>4</th>\n",
       "      <td>-159.799177</td>\n",
       "      <td>0.643642</td>\n",
       "    </tr>\n",
       "  </tbody>\n",
       "</table>\n",
       "</div>"
      ],
      "text/plain": [
       "   Angle_of_attack        Cl\n",
       "0      -175.403823  0.191825\n",
       "1      -172.282893  0.307163\n",
       "2      -168.681821  0.424899\n",
       "3      -164.600606  0.531203\n",
       "4      -159.799177  0.643642"
      ]
     },
     "execution_count": 24,
     "metadata": {},
     "output_type": "execute_result"
    }
   ],
   "source": [
    "df_lift_DU40.head()"
   ]
  },
  {
   "cell_type": "code",
   "execution_count": 25,
   "metadata": {},
   "outputs": [],
   "source": [
    "#We need convert object type numbers into a more convenient form to be able to make the plots:\n",
    "\n",
    "x1 = df_drag_DU40[\"Angle_of_attack\"].astype(float, errors = 'raise')\n",
    "y1 = df_drag_DU40[\"Cd\"].astype(float, errors = 'raise')\n",
    "\n",
    "x2 = df_lift_DU40[\"Angle_of_attack\"].astype(float, errors = 'raise')\n",
    "y2 = df_lift_DU40[\"Cl\"].astype(float, errors = 'raise')"
   ]
  },
  {
   "cell_type": "code",
   "execution_count": 26,
   "metadata": {},
   "outputs": [
    {
     "data": {
      "text/plain": [
       "Text(0.5, 1.0, 'Aerodynamics coefficients of DU40-A17 airfoil')"
      ]
     },
     "execution_count": 26,
     "metadata": {},
     "output_type": "execute_result"
    },
    {
     "data": {
      "image/png": "[encoded data removed]",
      "text/plain": [
       "<Figure size 432x288 with 1 Axes>"
      ]
     },
     "metadata": {
      "needs_background": "light"
     },
     "output_type": "display_data"
    }
   ],
   "source": [
    "#Creating the plot figure:\n",
    "\n",
    "plt.plot(x1, y1, color='red', label='Cd: drag coef.',linewidth=2)\n",
    "plt.plot(x2, y2, color='blue', label='Cl: lift coef.',linewidth=2)\n",
    "plt.xlabel('Angle of attack [degrees]')\n",
    "plt.ylabel('Cl & Cd, lift and drag coefficient')\n",
    "plt.legend(loc='best')\n",
    "plt.title('Aerodynamics coefficients of DU40-A17 airfoil')"
   ]
  },
  {
   "cell_type": "markdown",
   "metadata": {},
   "source": [
    "## NACA64-A17"
   ]
  },
  {
   "cell_type": "code",
   "execution_count": 27,
   "metadata": {},
   "outputs": [],
   "source": [
    "#Defining the location of the data folder \n",
    "DATA_FOLDER = 'Desktop/PLOTS_DATA_WIND_TURBINES/Aerodynamics_properties_blades/Data/'\n",
    "\n",
    "#Definition of the data path\n",
    "DATASET1 = DATA_FOLDER + \"Drag NACA64-A17_pi.csv\"\n",
    "DATASET2 = DATA_FOLDER + \"Lift NACA64-A17_pi.csv\"\n",
    "\n",
    "#Load of the compressed files in a specific way in function of the type of data file \n",
    "df_drag_NACA64 = pd.read_csv(DATASET1,sep =';',decimal=\",\")\n",
    "df_lift_NACA64 = pd.read_csv(DATASET2,sep =';',decimal=\",\")\n",
    "\n",
    "\n",
    "#Defining the columns names of the uploaded dataframe\n",
    "df_drag_NACA64.columns=[\"Angle_of_attack\", \"Cd\"]\n",
    "df_lift_NACA64.columns=[\"Angle_of_attack\", \"Cl\"]"
   ]
  },
  {
   "cell_type": "code",
   "execution_count": 28,
   "metadata": {},
   "outputs": [
    {
     "data": {
      "text/html": [
       "<div>\n",
       "<style scoped>\n",
       "    .dataframe tbody tr th:only-of-type {\n",
       "        vertical-align: middle;\n",
       "    }\n",
       "\n",
       "    .dataframe tbody tr th {\n",
       "        vertical-align: top;\n",
       "    }\n",
       "\n",
       "    .dataframe thead th {\n",
       "        text-align: right;\n",
       "    }\n",
       "</style>\n",
       "<table border=\"1\" class=\"dataframe\">\n",
       "  <thead>\n",
       "    <tr style=\"text-align: right;\">\n",
       "      <th></th>\n",
       "      <th>Angle_of_attack</th>\n",
       "      <th>Cd</th>\n",
       "    </tr>\n",
       "  </thead>\n",
       "  <tbody>\n",
       "    <tr>\n",
       "      <th>0</th>\n",
       "      <td>-170.867605</td>\n",
       "      <td>0.071536</td>\n",
       "    </tr>\n",
       "    <tr>\n",
       "      <th>1</th>\n",
       "      <td>-165.580126</td>\n",
       "      <td>0.165077</td>\n",
       "    </tr>\n",
       "    <tr>\n",
       "      <th>2</th>\n",
       "      <td>-160.292648</td>\n",
       "      <td>0.270838</td>\n",
       "    </tr>\n",
       "    <tr>\n",
       "      <th>3</th>\n",
       "      <td>-155.005170</td>\n",
       "      <td>0.380967</td>\n",
       "    </tr>\n",
       "    <tr>\n",
       "      <th>4</th>\n",
       "      <td>-149.958032</td>\n",
       "      <td>0.496016</td>\n",
       "    </tr>\n",
       "  </tbody>\n",
       "</table>\n",
       "</div>"
      ],
      "text/plain": [
       "   Angle_of_attack        Cd\n",
       "0      -170.867605  0.071536\n",
       "1      -165.580126  0.165077\n",
       "2      -160.292648  0.270838\n",
       "3      -155.005170  0.380967\n",
       "4      -149.958032  0.496016"
      ]
     },
     "execution_count": 28,
     "metadata": {},
     "output_type": "execute_result"
    }
   ],
   "source": [
    "df_drag_NACA64.head()"
   ]
  },
  {
   "cell_type": "code",
   "execution_count": 29,
   "metadata": {},
   "outputs": [
    {
     "data": {
      "text/html": [
       "<div>\n",
       "<style scoped>\n",
       "    .dataframe tbody tr th:only-of-type {\n",
       "        vertical-align: middle;\n",
       "    }\n",
       "\n",
       "    .dataframe tbody tr th {\n",
       "        vertical-align: top;\n",
       "    }\n",
       "\n",
       "    .dataframe thead th {\n",
       "        text-align: right;\n",
       "    }\n",
       "</style>\n",
       "<table border=\"1\" class=\"dataframe\">\n",
       "  <thead>\n",
       "    <tr style=\"text-align: right;\">\n",
       "      <th></th>\n",
       "      <th>Angle_of_attack</th>\n",
       "      <th>Cl</th>\n",
       "    </tr>\n",
       "  </thead>\n",
       "  <tbody>\n",
       "    <tr>\n",
       "      <th>0</th>\n",
       "      <td>-177.116442</td>\n",
       "      <td>0.204113</td>\n",
       "    </tr>\n",
       "    <tr>\n",
       "      <th>1</th>\n",
       "      <td>-175.434063</td>\n",
       "      <td>0.331518</td>\n",
       "    </tr>\n",
       "    <tr>\n",
       "      <th>2</th>\n",
       "      <td>-173.511344</td>\n",
       "      <td>0.473412</td>\n",
       "    </tr>\n",
       "    <tr>\n",
       "      <th>3</th>\n",
       "      <td>-171.588624</td>\n",
       "      <td>0.616583</td>\n",
       "    </tr>\n",
       "    <tr>\n",
       "      <th>4</th>\n",
       "      <td>-167.983526</td>\n",
       "      <td>0.718443</td>\n",
       "    </tr>\n",
       "  </tbody>\n",
       "</table>\n",
       "</div>"
      ],
      "text/plain": [
       "   Angle_of_attack        Cl\n",
       "0      -177.116442  0.204113\n",
       "1      -175.434063  0.331518\n",
       "2      -173.511344  0.473412\n",
       "3      -171.588624  0.616583\n",
       "4      -167.983526  0.718443"
      ]
     },
     "execution_count": 29,
     "metadata": {},
     "output_type": "execute_result"
    }
   ],
   "source": [
    "df_lift_NACA64.head()"
   ]
  },
  {
   "cell_type": "code",
   "execution_count": 30,
   "metadata": {},
   "outputs": [],
   "source": [
    "#We need convert object type numbers into a more convenient form to be able to make the plots:\n",
    "\n",
    "x1 = df_drag_NACA64[\"Angle_of_attack\"].astype(float, errors = 'raise')\n",
    "y1 = df_drag_NACA64[\"Cd\"].astype(float, errors = 'raise')\n",
    "\n",
    "x2 = df_lift_NACA64[\"Angle_of_attack\"].astype(float, errors = 'raise')\n",
    "y2 = df_lift_NACA64[\"Cl\"].astype(float, errors = 'raise')"
   ]
  },
  {
   "cell_type": "code",
   "execution_count": 31,
   "metadata": {},
   "outputs": [
    {
     "data": {
      "text/plain": [
       "Text(0.5, 1.0, 'Aerodynamics coefficients of NACA64-A17 airfoil')"
      ]
     },
     "execution_count": 31,
     "metadata": {},
     "output_type": "execute_result"
    },
    {
     "data": {
      "image/png": "[encoded data removed]",
      "text/plain": [
       "<Figure size 432x288 with 1 Axes>"
      ]
     },
     "metadata": {
      "needs_background": "light"
     },
     "output_type": "display_data"
    }
   ],
   "source": [
    "#Creating the plot figure:\n",
    "\n",
    "plt.plot(x1, y1, color='red', label='Cd: drag coef.',linewidth=2)\n",
    "plt.plot(x2, y2, color='blue', label='Cl: lift coef.',linewidth=2)\n",
    "plt.xlabel('Angle of attack [degrees]')\n",
    "plt.ylabel('Cl & Cd, lift and drag coefficient')\n",
    "plt.legend(loc='best')\n",
    "plt.title('Aerodynamics coefficients of NACA64-A17 airfoil')"
   ]
  },
  {
   "cell_type": "code",
   "execution_count": 32,
   "metadata": {},
   "outputs": [],
   "source": [
    "#Creation of the interpolation function for a determinated dataframe:\n",
    "\n",
    "def interpolation(r,df):\n",
    "    xp = df.iloc[:,0]\n",
    "    fp = df.iloc[:,1]\n",
    "    interpolation = np.interp(r,xp,fp)\n",
    "    return interpolation"
   ]
  },
  {
   "cell_type": "code",
   "execution_count": 43,
   "metadata": {},
   "outputs": [
    {
     "data": {
      "text/plain": [
       "-0.20059887568775417"
      ]
     },
     "execution_count": 43,
     "metadata": {},
     "output_type": "execute_result"
    }
   ],
   "source": [
    "interpolation(100,df_lift_NACA64)"
   ]
  },
  {
   "cell_type": "code",
   "execution_count": 44,
   "metadata": {},
   "outputs": [
    {
     "data": {
      "text/plain": [
       "1.428431201565949"
      ]
     },
     "execution_count": 44,
     "metadata": {},
     "output_type": "execute_result"
    }
   ],
   "source": [
    "interpolation(100,df_drag_NACA64)"
   ]
  },
  {
   "cell_type": "code",
   "execution_count": null,
   "metadata": {},
   "outputs": [],
   "source": []
  },
  {
   "cell_type": "code",
   "execution_count": null,
   "metadata": {},
   "outputs": [],
   "source": []
  },
  {
   "cell_type": "markdown",
   "metadata": {},
   "source": [
    "# OLD CALCULATIONS NOT NEEDED, BUT I WANT TO KEEP HERE."
   ]
  },
  {
   "cell_type": "code",
   "execution_count": null,
   "metadata": {},
   "outputs": [],
   "source": [
    "#Defining interpolation function for a determinate angle of attack and find the corresponding drag for an aifoil:\n",
    "\n",
    "x = 50.34\n",
    "\n",
    "for j in range(len(df_drag)-1):\n",
    "\n",
    "            i = j-1\n",
    "\n",
    "            x0 = df_drag[\"Angle_of_attack\"].iloc[i]\n",
    "            x1 = df_drag[\"Angle_of_attack\"].iloc[j]\n",
    "            if x0 < x:\n",
    "\n",
    "                if x < x1:\n",
    "                        y0 = df_drag[\"Cd\"].iloc[i]\n",
    "                        y1 = df_drag[\"Cd\"].iloc[j]\n",
    "                        y = y0+(y1-y0)*((x-x0)/(x1-x0))\n",
    "                        j = len(df_drag)\n",
    "\n",
    "\n",
    "print(\"The corresponding drag coefficeint for the angle of attack selected is : {}\".format(y))"
   ]
  },
  {
   "cell_type": "code",
   "execution_count": null,
   "metadata": {},
   "outputs": [],
   "source": [
    "#Defining interpolation function for a determinate angle of attack and find the corresponding lift for an aifoil:\n",
    "\n",
    "x = 5.21\n",
    "\n",
    "for j in range(len(df_lift)-1):\n",
    "\n",
    "            i = j-1\n",
    "\n",
    "            x0 = df_lift[\"Angle_of_attack\"].iloc[i]\n",
    "            x1 = df_lift[\"Angle_of_attack\"].iloc[j]\n",
    "            if x0 < x:\n",
    "\n",
    "                if x < x1:\n",
    "                        y0 = df_lift[\"Cl\"].iloc[i]\n",
    "                        y1 = df_lift[\"Cl\"].iloc[j]\n",
    "                        y = y0+(y1-y0)*((x-x0)/(x1-x0))\n",
    "                        j = len(df_lift)\n",
    "\n",
    "\n",
    "print(\"The corresponding drag coefficeint for the angle of attack selected is : {}\".format(y))"
   ]
  }
 ],
 "metadata": {
  "kernelspec": {
   "display_name": "Python 3",
   "language": "python",
   "name": "python3"
  },
  "language_info": {
   "codemirror_mode": {
    "name": "ipython",
    "version": 3
   },
   "file_extension": ".py",
   "mimetype": "text/x-python",
   "name": "python",
   "nbconvert_exporter": "python",
   "pygments_lexer": "ipython3",
   "version": "3.8.5"
  }
 },
 "nbformat": 4,
 "nbformat_minor": 4
}
