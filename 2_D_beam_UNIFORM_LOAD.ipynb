{
 "cells": [
  {
   "cell_type": "code",
   "execution_count": 1,
   "metadata": {},
   "outputs": [],
   "source": [
    "import pandas as pd\n",
    "import numpy as np\n",
    "import math\n",
    "import matplotlib.pyplot as plt\n",
    "import matplotlib\n",
    "import seaborn as sns\n",
    "from datetime import datetime, date, time\n",
    "import warnings\n",
    "warnings.filterwarnings('ignore')"
   ]
  },
  {
   "cell_type": "markdown",
   "metadata": {},
   "source": [
    "# 1. LOADING THE PLOTS INFORMATION"
   ]
  },
  {
   "cell_type": "markdown",
   "metadata": {},
   "source": [
    "## 1.2 STRUCTURAL PROPERTIES"
   ]
  },
  {
   "cell_type": "code",
   "execution_count": 2,
   "metadata": {},
   "outputs": [],
   "source": [
    "def maxim(T,total_time,variable):\n",
    "    t = 0\n",
    "    maximum = 0\n",
    "    delta_t = total_time/T\n",
    "    for j in range (T):\n",
    "        maximum_new = variable[j]\n",
    "        if maximum_new > maximum:\n",
    "            maximum = maximum_new\n",
    "        \n",
    "        t = t + delta_t\n",
    "        \n",
    "    return maximum"
   ]
  },
  {
   "cell_type": "code",
   "execution_count": 3,
   "metadata": {},
   "outputs": [],
   "source": [
    "def minim(T,total_time,variable):\n",
    "    t = 0\n",
    "    minimum = 0\n",
    "    delta_t = total_time/T\n",
    "    for j in range (T):\n",
    "        minimum_new = variable[j]\n",
    "        if minimum_new < minimum:\n",
    "            minimum = minimum_new\n",
    "        \n",
    "        t = t + delta_t\n",
    "        \n",
    "    return minimum"
   ]
  },
  {
   "cell_type": "code",
   "execution_count": 4,
   "metadata": {},
   "outputs": [],
   "source": [
    "def amplitud(maximum,minimum):\n",
    "    A = maximum-minimum\n",
    "    return A"
   ]
  },
  {
   "cell_type": "markdown",
   "metadata": {},
   "source": [
    "# 2. DEFINING VARIABLES AND ARRAYS TO STORE DATA"
   ]
  },
  {
   "cell_type": "code",
   "execution_count": 5,
   "metadata": {},
   "outputs": [],
   "source": [
    "#Creating the 6 arrays neededs to store the infromation in each time step.\n",
    "\n",
    "T = 100000 #Number of points that time is discretized\n",
    "\n",
    "N = 100 #Number of points that the airfoil is discretized\n",
    "\n",
    "#Dynamic velocity arrays:\n",
    "V_0_new = np.zeros(N+2)\n",
    "V_1_new = np.zeros(N+2)\n",
    "V_0_old = np.zeros(N+2)\n",
    "V_1_old = np.zeros(N+2)\n",
    "\n",
    "#Moments arrays:\n",
    "M_0_new = np.zeros(N+2)\n",
    "M_1_new = np.zeros(N+2)\n",
    "M_0_old = np.zeros(N+2)\n",
    "M_1_old = np.zeros(N+2)\n",
    "\n",
    "#Centrifual term arrays:\n",
    "S_0_new = np.zeros(N+1)\n",
    "S_1_new = np.zeros(N+1)\n",
    "S_0_old = np.zeros(N+1)\n",
    "S_1_old = np.zeros(N+1)\n",
    "\n",
    "#Dynamic displacement arrays:\n",
    "q_0_new = np.zeros(N+2)\n",
    "q_1_new = np.zeros(N+2)\n",
    "q_0_old = np.zeros(N+2)\n",
    "q_1_old = np.zeros(N+2)\n",
    "\n",
    "#Centrifugal force array:\n",
    "N_force = np.zeros(N+1)\n",
    "\n",
    "#Radial position in the blade array:\n",
    "Position = np.zeros(N+2)\n",
    "\n",
    "#Time position in the simulation array:\n",
    "Time = np.zeros(T+1)\n",
    "\n",
    "#Root bending moments array:\n",
    "Root_M_0 = np.zeros(T+1)\n",
    "Root_M_1 = np.zeros(T+1)\n",
    "\n",
    "#Tip velocity of the displacements array:\n",
    "Tip_V_0 = np.zeros(T+1)\n",
    "Tip_V_1 = np.zeros(T+1)\n",
    "\n",
    "#Tip displacements array:\n",
    "Tip_q_0 = np.zeros(T+1)\n",
    "Tip_q_1 = np.zeros(T+1)\n",
    "\n",
    "#Force damped array:\n",
    "Damped = np.zeros(T+1)\n",
    "\n",
    "#Force at the tip:\n",
    "Force_tip = np.zeros(N+2)"
   ]
  },
  {
   "cell_type": "code",
   "execution_count": 6,
   "metadata": {},
   "outputs": [
    {
     "data": {
      "text/plain": [
       "array([0., 0., 0., 0., 0., 0., 0., 0., 0., 0., 0., 0., 0., 0., 0., 0., 0.,\n",
       "       0., 0., 0., 0., 0., 0., 0., 0., 0., 0., 0., 0., 0., 0., 0., 0., 0.,\n",
       "       0., 0., 0., 0., 0., 0., 0., 0., 0., 0., 0., 0., 0., 0., 0., 0., 0.,\n",
       "       0., 0., 0., 0., 0., 0., 0., 0., 0., 0., 0., 0., 0., 0., 0., 0., 0.,\n",
       "       0., 0., 0., 0., 0., 0., 0., 0., 0., 0., 0., 0., 0., 0., 0., 0., 0.,\n",
       "       0., 0., 0., 0., 0., 0., 0., 0., 0., 0., 0., 0., 0., 0., 0., 0., 0.])"
      ]
     },
     "execution_count": 6,
     "metadata": {},
     "output_type": "execute_result"
    }
   ],
   "source": [
    "M_0_new"
   ]
  },
  {
   "cell_type": "markdown",
   "metadata": {},
   "source": [
    "# 3. MAIN PROGRAM"
   ]
  },
  {
   "cell_type": "code",
   "execution_count": null,
   "metadata": {},
   "outputs": [],
   "source": [
    "#Define time and length steps:\n",
    "\n",
    "total_time = 10.0\n",
    "t = 0\n",
    "#A = -100 #Amplitud aerodynamic force\n",
    "B = 0 #Amplitud aerodynamic force\n",
    "#First we need to define all the properties for the i position:\n",
    "       \n",
    "EI_00 = (10**10)*1.5\n",
    "EI_11 = (10**10)*1.5\n",
    "EI_01 = 0\n",
    "EI_10 = 0\n",
    "twist = 0\n",
    "rho = 500.0\n",
    "F_a_0 = B\n",
    "#F_a_1 = A\n",
    "g_0 = 0.0\n",
    "g_1 = 0.0\n",
    "\n",
    "beta = 0.5 #Damped constant\n",
    "A_q = amplitud(maxim(T,total_time,Tip_q_1),minim(T,total_time,Tip_q_1)) #AMPLITUD dynamic dispalcement response in the tip\n",
    "A_m = amplitud(maxim(T,total_time,Root_M_1),minim(T,total_time,Root_M_1)) #AMPLITUD dynamic moment response in the root\n",
    "\n",
    "#Program loop iterations\n",
    "\n",
    "for j in range(T):\n",
    "    \n",
    "    delta_t = total_time/T\n",
    "    r = 0\n",
    "    F_a_1 = -100.0#*(math.exp(-t)) #Amplitud aerodynamic force\n",
    "    #Damped[j] = F_a_1 \n",
    "    #F_a_1 = A*math.sin(2*3.14*t)\n",
    "    #Force_tip[N+1] = F_a_1\n",
    "    \n",
    "    for i in range(1,N+1):\n",
    "        \n",
    "        \n",
    "        R = 62.5\n",
    "        delta_r = R/(N-1)\n",
    "       \n",
    "        \n",
    "        \n",
    "        #Secondly calculate new values of data from the old step time:\n",
    "        \n",
    "        \n",
    "        V_0_new[i] = V_0_old[i] + delta_t*((-1/rho)*((M_0_old[i+1]-(2*M_0_old[i])+M_0_old[i-1])/delta_r**2)+(F_a_0/rho)+ g_0)\n",
    "        V_1_new[i] = V_1_old[i] + delta_t*((-1/rho)*((M_1_old[i+1]-(2*M_1_old[i])+M_1_old[i-1])/delta_r**2)+(F_a_1/rho)+ g_1)\n",
    "        \n",
    "        #Boundary conditions at the ROOT position: \n",
    "        V_0_new[0] = 0\n",
    "        V_1_new[0] = 0\n",
    "        V_0_new[1] = 0\n",
    "        V_1_new[1] = 0\n",
    "        \n",
    "        M_0_new[i] = M_0_old[i] + delta_t*((EI_00*((V_0_new[i+1]-(2*V_0_new[i])+V_0_new[i-1])/delta_r**2)))#+EI_01*((V_1_new[i+1]-(2*V_1_new[i])+V_1_new[i-1])/delta_r**2)))\n",
    "        M_1_new[i] = M_1_old[i] + delta_t*((EI_11*((V_1_new[i+1]-(2*V_1_new[i])+V_1_new[i-1])/delta_r**2)))#+EI_10*((V_0_new[i+1]-(2*V_0_new[i])+V_0_new[i-1])/delta_r**2)))\n",
    "    \n",
    "        \n",
    "        \n",
    "        #Boundary conditions at the TIPS position:\n",
    "        M_0_new[N+1] = 0\n",
    "        M_1_new[N+1] = 0\n",
    "        M_0_new[N] = 0\n",
    "        M_1_new[N] = 0\n",
    "        \n",
    "        \n",
    "        q_0_new[i] = q_0_old[i] + delta_t*((V_0_old[i]))\n",
    "        q_1_new[i] = q_1_old[i] + delta_t*((V_1_old[i]))\n",
    "        \n",
    "        #Position control:\n",
    "        \n",
    "        Position[i] = r\n",
    "        r = r + delta_r\n",
    "    \n",
    "    #Upload data to new time-step:\n",
    "    V_0_old = V_0_new \n",
    "    V_1_old = V_1_new \n",
    "    M_0_old = M_0_new \n",
    "    M_1_old = M_1_new \n",
    "    q_0_old = q_0_new\n",
    "    q_1_old = q_1_new\n",
    "    \n",
    "    #Store data to plot: \n",
    "    \n",
    "    \n",
    "    Root_M_0[j] = M_0_new[1]\n",
    "    Root_M_1[j] = M_1_new[1]\n",
    "    #Root_M_1[j] = (M_1_new[1]+(A_m/2))*math.exp(-beta*t)-(A_m/2)\n",
    "    Tip_V_0[j] = V_0_new[N]\n",
    "    Tip_V_1[j] = V_0_new[N]\n",
    "    Tip_q_0[j] = q_0_new[N]\n",
    "    Tip_q_1[j] = q_1_new[N]\n",
    "    #Tip_q_1[j] = ((q_1_new[N]+(A_q/2))*math.exp(-beta*t)-(A_q/2))\n",
    "    \n",
    "    #Time control:\n",
    "    \n",
    "    Time[j] = t\n",
    "    t = t + delta_t\n",
    "    \n"
   ]
  },
  {
   "cell_type": "code",
   "execution_count": null,
   "metadata": {},
   "outputs": [],
   "source": []
  },
  {
   "cell_type": "code",
   "execution_count": null,
   "metadata": {},
   "outputs": [],
   "source": [
    "maxim(T,total_time,Tip_q_1)"
   ]
  },
  {
   "cell_type": "code",
   "execution_count": null,
   "metadata": {},
   "outputs": [],
   "source": [
    "minim(T,total_time,Tip_q_1)"
   ]
  },
  {
   "cell_type": "code",
   "execution_count": null,
   "metadata": {},
   "outputs": [],
   "source": [
    "amplitud(maxim(T,total_time,Tip_q_1),minim(T,total_time,Tip_q_1))"
   ]
  },
  {
   "cell_type": "code",
   "execution_count": null,
   "metadata": {},
   "outputs": [],
   "source": [
    "maxim(T,total_time,Root_M_1)"
   ]
  },
  {
   "cell_type": "code",
   "execution_count": null,
   "metadata": {},
   "outputs": [],
   "source": [
    "minim(T,total_time,Root_M_1)"
   ]
  },
  {
   "cell_type": "code",
   "execution_count": null,
   "metadata": {},
   "outputs": [],
   "source": [
    "amplitud(maxim(T,total_time,Root_M_1),minim(T,total_time,Root_M_1))"
   ]
  },
  {
   "cell_type": "code",
   "execution_count": null,
   "metadata": {},
   "outputs": [],
   "source": [
    "Tip_q_1"
   ]
  },
  {
   "cell_type": "code",
   "execution_count": null,
   "metadata": {},
   "outputs": [],
   "source": [
    "Position"
   ]
  },
  {
   "cell_type": "code",
   "execution_count": null,
   "metadata": {},
   "outputs": [],
   "source": [
    "Tip_q_1[j]"
   ]
  },
  {
   "cell_type": "code",
   "execution_count": null,
   "metadata": {},
   "outputs": [],
   "source": [
    "M_1_new"
   ]
  },
  {
   "cell_type": "code",
   "execution_count": null,
   "metadata": {},
   "outputs": [],
   "source": [
    "Root_M_1"
   ]
  },
  {
   "cell_type": "markdown",
   "metadata": {},
   "source": [
    "# 4. RESULTS & PLOTS"
   ]
  },
  {
   "cell_type": "markdown",
   "metadata": {},
   "source": [
    "In this part, we will make different plots to be able to see in a better way the results obtained with the program developed.\n",
    "\n",
    "First we will need to create the new dataframes to be able to"
   ]
  },
  {
   "cell_type": "code",
   "execution_count": null,
   "metadata": {},
   "outputs": [],
   "source": [
    "#Time step minimum calculation to obtain a consistent result that should ensure stability:\n"
   ]
  },
  {
   "cell_type": "code",
   "execution_count": null,
   "metadata": {},
   "outputs": [],
   "source": [
    "#Damped force plot to be sure of the final behaviour:\n",
    "\n",
    "#Creating the plot figure:\n",
    "\n",
    "x = Time[:-1]\n",
    "y = Damped[:-1]\n",
    "\n",
    "\n",
    "plt.plot(x, y, color='blue', linewidth=2)\n",
    "plt.ylabel('Damped force applied [N/m]')\n",
    "plt.xlabel('Time [s]')\n",
    "plt.title('Damped force applied');"
   ]
  },
  {
   "cell_type": "markdown",
   "metadata": {},
   "source": [
    "## 4.1.1 TIP DISPLACEMENT OVER THE TIME"
   ]
  },
  {
   "cell_type": "code",
   "execution_count": null,
   "metadata": {},
   "outputs": [],
   "source": [
    "#Creating the plot figure:\n",
    "\n",
    "x = Time[:-1]\n",
    "y = Tip_q_0[:-1]\n",
    "\n",
    "\n",
    "plt.plot(x, y, color='blue', linewidth=2)\n",
    "plt.ylabel('Tip Displacement direction 0 [m]')\n",
    "plt.xlabel('Time [s]')\n",
    "plt.title('Tip Displacement direction 0 over the time');"
   ]
  },
  {
   "cell_type": "code",
   "execution_count": null,
   "metadata": {},
   "outputs": [],
   "source": [
    "#Creating the plot figure:\n",
    "\n",
    "x = Time[:-1]\n",
    "y = Tip_q_1 [:-1]\n",
    "\n",
    "\n",
    "plt.plot(x, y, color='blue', linewidth=2)\n",
    "plt.ylabel('Tip Displacement direction 1 [m]')\n",
    "plt.xlabel('Time [s]')\n",
    "plt.title('Tip Displacement direction 1 over the time');"
   ]
  },
  {
   "cell_type": "code",
   "execution_count": null,
   "metadata": {},
   "outputs": [],
   "source": [
    "np.average(Tip_q_1)"
   ]
  },
  {
   "cell_type": "markdown",
   "metadata": {},
   "source": [
    "## 4.1.2 DISPLACEMENT IN THE BLADE"
   ]
  },
  {
   "cell_type": "code",
   "execution_count": null,
   "metadata": {},
   "outputs": [],
   "source": [
    "#Creating the plot figure:\n",
    "\n",
    "x = Position[:-1]\n",
    "y = q_0_new[:-1]\n",
    "\n",
    "\n",
    "plt.plot(x, y, color='blue', linewidth=2)\n",
    "plt.ylabel('Displacement direction 0 [m]')\n",
    "plt.xlabel('Blade radius [m]')\n",
    "plt.title('Displacement along spanwise on direction 0');"
   ]
  },
  {
   "cell_type": "code",
   "execution_count": null,
   "metadata": {},
   "outputs": [],
   "source": [
    "#Creating the plot figure:\n",
    "\n",
    "x = Position[:-1]\n",
    "y = q_1_new[:-1]\n",
    "\n",
    "\n",
    "plt.plot(x, y, color='blue', linewidth=2)\n",
    "plt.ylabel('Displacement direction 1 [m]')\n",
    "plt.xlabel('Blade radius [m]')\n",
    "plt.title('Displacement along spanwise on direction 1');"
   ]
  },
  {
   "cell_type": "markdown",
   "metadata": {},
   "source": [
    "## 4.2.1 ROOT BENDING MOMENT OVER THE TIME"
   ]
  },
  {
   "cell_type": "code",
   "execution_count": null,
   "metadata": {},
   "outputs": [],
   "source": [
    "#Creating the plot figure:\n",
    "\n",
    "x = Time[:-1]\n",
    "y = Root_M_0[:-1]\n",
    "\n",
    "\n",
    "plt.plot(x, y, color='blue', linewidth=2)\n",
    "plt.ylabel('Root bending Moment 0 [N·m]')\n",
    "plt.xlabel('Time [s]')\n",
    "plt.title('Root bending Moment 0');"
   ]
  },
  {
   "cell_type": "code",
   "execution_count": null,
   "metadata": {},
   "outputs": [],
   "source": [
    "#Creating the plot figure:\n",
    "\n",
    "x = Time[:-1]\n",
    "y = Root_M_1[:-1]\n",
    "\n",
    "\n",
    "plt.plot(x, y, color='blue', linewidth=2)\n",
    "plt.ylabel('Root bending Moment 1 [N·m]')\n",
    "plt.xlabel('Time [s]')\n",
    "plt.title('Root bending Moment 1');"
   ]
  },
  {
   "cell_type": "code",
   "execution_count": null,
   "metadata": {},
   "outputs": [],
   "source": [
    "np.average(Root_M_1)"
   ]
  },
  {
   "cell_type": "markdown",
   "metadata": {},
   "source": [
    "## 4.2.2 BENDING MOMENT IN THE BLADE"
   ]
  },
  {
   "cell_type": "code",
   "execution_count": null,
   "metadata": {},
   "outputs": [],
   "source": [
    "#Creating the plot figure:\n",
    "\n",
    "x = Position[:-1]\n",
    "y = M_0_new[:-1]\n",
    "\n",
    "\n",
    "plt.plot(x, y, color='blue', linewidth=2)\n",
    "plt.ylabel('Bending Moment 0 [N·m]')\n",
    "plt.xlabel('Blade radius [m]')\n",
    "plt.title('Bending Moment 0 over the spanwise');"
   ]
  },
  {
   "cell_type": "code",
   "execution_count": null,
   "metadata": {},
   "outputs": [],
   "source": [
    "#Creating the plot figure:\n",
    "\n",
    "x = Position[:-1]\n",
    "y = M_1_new[:-1]\n",
    "\n",
    "\n",
    "plt.plot(x, y, color='blue', linewidth=2)\n",
    "plt.ylabel('Bending Moment 1 [N·m]')\n",
    "plt.xlabel('Blade radius [m]')\n",
    "plt.title('Bending Moment 1 over the spanwise');"
   ]
  },
  {
   "cell_type": "code",
   "execution_count": null,
   "metadata": {},
   "outputs": [],
   "source": [
    "M_1_new"
   ]
  },
  {
   "cell_type": "code",
   "execution_count": null,
   "metadata": {},
   "outputs": [],
   "source": [
    "Root_M_1"
   ]
  },
  {
   "cell_type": "markdown",
   "metadata": {},
   "source": [
    "## 4.3.1 TIP VELOCITY DISPLACEMENT OVER THE TIME "
   ]
  },
  {
   "cell_type": "code",
   "execution_count": null,
   "metadata": {},
   "outputs": [],
   "source": [
    "#Creating the plot figure:\n",
    "\n",
    "x = Time[:-1]\n",
    "y = Tip_V_0[:-1]\n",
    "\n",
    "plt.plot(x, y, color='blue', linewidth=2)\n",
    "plt.ylabel('Tip Velocity direction 0 [m/s]')\n",
    "plt.xlabel('Time [s]')\n",
    "plt.title('Tip Velocity direction 0');"
   ]
  },
  {
   "cell_type": "code",
   "execution_count": null,
   "metadata": {},
   "outputs": [],
   "source": [
    "#Creating the plot figure:\n",
    "\n",
    "x = Time[:-1]\n",
    "y = Tip_V_1[:-1]\n",
    "\n",
    "plt.plot(x, y, color='blue', linewidth=2)\n",
    "plt.ylabel('Tip Velocity direction 1 [m/s]')\n",
    "plt.xlabel('Time [s]')\n",
    "plt.title('Tip Velocity direction 1');"
   ]
  },
  {
   "cell_type": "markdown",
   "metadata": {},
   "source": [
    "## 4.3.2 VELOCITY OF DISPLACEMENT IN THE BLADE"
   ]
  },
  {
   "cell_type": "code",
   "execution_count": null,
   "metadata": {},
   "outputs": [],
   "source": [
    "#Creating the plot figure:\n",
    "\n",
    "x = Position[:-1]\n",
    "y = V_0_new[:-1]\n",
    "\n",
    "\n",
    "plt.plot(x, y, color='blue', linewidth=2)\n",
    "plt.ylabel('Tip Velocity direction 0 [m/s]')\n",
    "plt.xlabel('Blade radius [m]')\n",
    "plt.title('Tip Velocity along spanwise on direction 0');"
   ]
  },
  {
   "cell_type": "code",
   "execution_count": null,
   "metadata": {},
   "outputs": [],
   "source": [
    "#Creating the plot figure:\n",
    "\n",
    "x = Position[:-1]\n",
    "y = V_1_new[:-1]\n",
    "\n",
    "\n",
    "plt.plot(x, y, color='blue', linewidth=2)\n",
    "plt.ylabel('Tip Velocity direction 1 [m/s]')\n",
    "plt.xlabel('Blade radius [m]')\n",
    "plt.title('Tip Velocity along spanwise on direction 1');"
   ]
  },
  {
   "cell_type": "code",
   "execution_count": null,
   "metadata": {},
   "outputs": [],
   "source": []
  },
  {
   "cell_type": "code",
   "execution_count": null,
   "metadata": {},
   "outputs": [],
   "source": []
  }
 ],
 "metadata": {
  "kernelspec": {
   "display_name": "Python 3",
   "language": "python",
   "name": "python3"
  },
  "language_info": {
   "codemirror_mode": {
    "name": "ipython",
    "version": 3
   },
   "file_extension": ".py",
   "mimetype": "text/x-python",
   "name": "python",
   "nbconvert_exporter": "python",
   "pygments_lexer": "ipython3",
   "version": "3.8.5"
  }
 },
 "nbformat": 4,
 "nbformat_minor": 4
}
