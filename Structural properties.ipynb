{
 "cells": [
  {
   "cell_type": "markdown",
   "metadata": {},
   "source": [
    "# STRUCTURAL PROPERTIES"
   ]
  },
  {
   "cell_type": "code",
   "execution_count": 1,
   "metadata": {},
   "outputs": [],
   "source": [
    "import pandas as pd\n",
    "import numpy as np\n",
    "import matplotlib.pyplot as plt\n",
    "import matplotlib\n",
    "import seaborn as sns\n",
    "from datetime import datetime, date, time\n",
    "import warnings\n",
    "warnings.filterwarnings('ignore')"
   ]
  },
  {
   "cell_type": "markdown",
   "metadata": {},
   "source": [
    "## 1. BLADE DESNSITY"
   ]
  },
  {
   "cell_type": "code",
   "execution_count": 2,
   "metadata": {},
   "outputs": [
    {
     "data": {
      "text/html": [
       "<div>\n",
       "<style scoped>\n",
       "    .dataframe tbody tr th:only-of-type {\n",
       "        vertical-align: middle;\n",
       "    }\n",
       "\n",
       "    .dataframe tbody tr th {\n",
       "        vertical-align: top;\n",
       "    }\n",
       "\n",
       "    .dataframe thead th {\n",
       "        text-align: right;\n",
       "    }\n",
       "</style>\n",
       "<table border=\"1\" class=\"dataframe\">\n",
       "  <thead>\n",
       "    <tr style=\"text-align: right;\">\n",
       "      <th></th>\n",
       "      <th>Spanwise_length</th>\n",
       "      <th>Blade_density</th>\n",
       "    </tr>\n",
       "  </thead>\n",
       "  <tbody>\n",
       "    <tr>\n",
       "      <th>0</th>\n",
       "      <td>2.192910</td>\n",
       "      <td>721.035702</td>\n",
       "    </tr>\n",
       "    <tr>\n",
       "      <th>1</th>\n",
       "      <td>3.057056</td>\n",
       "      <td>755.187712</td>\n",
       "    </tr>\n",
       "    <tr>\n",
       "      <th>2</th>\n",
       "      <td>4.398720</td>\n",
       "      <td>735.858936</td>\n",
       "    </tr>\n",
       "    <tr>\n",
       "      <th>3</th>\n",
       "      <td>5.074845</td>\n",
       "      <td>695.065757</td>\n",
       "    </tr>\n",
       "    <tr>\n",
       "      <th>4</th>\n",
       "      <td>5.359990</td>\n",
       "      <td>656.854253</td>\n",
       "    </tr>\n",
       "  </tbody>\n",
       "</table>\n",
       "</div>"
      ],
      "text/plain": [
       "   Spanwise_length  Blade_density\n",
       "0         2.192910     721.035702\n",
       "1         3.057056     755.187712\n",
       "2         4.398720     735.858936\n",
       "3         5.074845     695.065757\n",
       "4         5.359990     656.854253"
      ]
     },
     "execution_count": 2,
     "metadata": {},
     "output_type": "execute_result"
    }
   ],
   "source": [
    "#Defining the location of the data folder \n",
    "DATA_FOLDER = 'Desktop/PLOTS_DATA_WIND_TURBINES/Structural_properties/Data/'\n",
    "\n",
    "#Definition of the data path\n",
    "DATASET = DATA_FOLDER + \"Blade_Density.csv\"\n",
    "\n",
    "#Load of the compressed files in a specific way in function of the type of data file \n",
    "df = pd.read_csv(DATASET,sep =';',decimal=\",\")\n",
    "\n",
    "#Defining the columns names of the uploaded dataframe\n",
    "df.columns=[\"Spanwise_length\", \"Blade_density\"]\n",
    "\n",
    "df.head()"
   ]
  },
  {
   "cell_type": "code",
   "execution_count": 3,
   "metadata": {},
   "outputs": [
    {
     "data": {
      "text/plain": [
       "Spanwise_length    float64\n",
       "Blade_density      float64\n",
       "dtype: object"
      ]
     },
     "execution_count": 3,
     "metadata": {},
     "output_type": "execute_result"
    }
   ],
   "source": [
    "df.dtypes"
   ]
  },
  {
   "cell_type": "code",
   "execution_count": 4,
   "metadata": {},
   "outputs": [
    {
     "data": {
      "image/png": "[encoded data removed]",
      "text/plain": [
       "<Figure size 432x288 with 1 Axes>"
      ]
     },
     "metadata": {
      "needs_background": "light"
     },
     "output_type": "display_data"
    }
   ],
   "source": [
    "#Creating the plot figure:\n",
    "\n",
    "x = df[\"Spanwise_length\"]\n",
    "y = df[\"Blade_density\"]\n",
    "\n",
    "plt.plot(x, y, color='blue', linewidth=2)\n",
    "plt.xlabel('Spanwise length [m]')\n",
    "plt.ylabel('Blade Density [kg/m]')\n",
    "plt.title('Blade Density');"
   ]
  },
  {
   "cell_type": "markdown",
   "metadata": {},
   "source": [
    "## 2. STRUCTURAL TWIST"
   ]
  },
  {
   "cell_type": "code",
   "execution_count": 5,
   "metadata": {},
   "outputs": [
    {
     "data": {
      "text/html": [
       "<div>\n",
       "<style scoped>\n",
       "    .dataframe tbody tr th:only-of-type {\n",
       "        vertical-align: middle;\n",
       "    }\n",
       "\n",
       "    .dataframe tbody tr th {\n",
       "        vertical-align: top;\n",
       "    }\n",
       "\n",
       "    .dataframe thead th {\n",
       "        text-align: right;\n",
       "    }\n",
       "</style>\n",
       "<table border=\"1\" class=\"dataframe\">\n",
       "  <thead>\n",
       "    <tr style=\"text-align: right;\">\n",
       "      <th></th>\n",
       "      <th>Spanwise_length</th>\n",
       "      <th>Structural_twist</th>\n",
       "    </tr>\n",
       "  </thead>\n",
       "  <tbody>\n",
       "    <tr>\n",
       "      <th>0</th>\n",
       "      <td>3.613907</td>\n",
       "      <td>13.353527</td>\n",
       "    </tr>\n",
       "    <tr>\n",
       "      <th>1</th>\n",
       "      <td>4.956997</td>\n",
       "      <td>13.356176</td>\n",
       "    </tr>\n",
       "    <tr>\n",
       "      <th>2</th>\n",
       "      <td>6.300087</td>\n",
       "      <td>13.358825</td>\n",
       "    </tr>\n",
       "    <tr>\n",
       "      <th>3</th>\n",
       "      <td>7.643178</td>\n",
       "      <td>13.361474</td>\n",
       "    </tr>\n",
       "    <tr>\n",
       "      <th>4</th>\n",
       "      <td>8.986268</td>\n",
       "      <td>13.364123</td>\n",
       "    </tr>\n",
       "  </tbody>\n",
       "</table>\n",
       "</div>"
      ],
      "text/plain": [
       "   Spanwise_length  Structural_twist\n",
       "0         3.613907         13.353527\n",
       "1         4.956997         13.356176\n",
       "2         6.300087         13.358825\n",
       "3         7.643178         13.361474\n",
       "4         8.986268         13.364123"
      ]
     },
     "execution_count": 5,
     "metadata": {},
     "output_type": "execute_result"
    }
   ],
   "source": [
    "#Defining the location of the data folder \n",
    "DATA_FOLDER = 'Desktop/PLOTS_DATA_WIND_TURBINES/Structural_properties/Data/'\n",
    "\n",
    "#Definition of the data path\n",
    "DATASET = DATA_FOLDER + \"Structural_Twist.csv\"\n",
    "\n",
    "#Load of the compressed files in a specific way in function of the type of data file \n",
    "df = pd.read_csv(DATASET,sep =';',decimal=\",\")\n",
    "\n",
    "#Defining the columns names of the uploaded dataframe\n",
    "df.columns=[\"Spanwise_length\", \"Structural_twist\"]\n",
    "\n",
    "df.head()"
   ]
  },
  {
   "cell_type": "code",
   "execution_count": 6,
   "metadata": {},
   "outputs": [
    {
     "data": {
      "text/plain": [
       "Spanwise_length     float64\n",
       "Structural_twist    float64\n",
       "dtype: object"
      ]
     },
     "execution_count": 6,
     "metadata": {},
     "output_type": "execute_result"
    }
   ],
   "source": [
    "df.dtypes"
   ]
  },
  {
   "cell_type": "code",
   "execution_count": 7,
   "metadata": {},
   "outputs": [
    {
     "data": {
      "image/png": "[encoded data removed]",
      "text/plain": [
       "<Figure size 432x288 with 1 Axes>"
      ]
     },
     "metadata": {
      "needs_background": "light"
     },
     "output_type": "display_data"
    }
   ],
   "source": [
    "#Creating the plot figure:\n",
    "\n",
    "x = df[\"Spanwise_length\"]\n",
    "y = df[\"Structural_twist\"]\n",
    "\n",
    "plt.plot(x, y, color='blue', linewidth=2)\n",
    "plt.xlabel('Spanwise length [m]')\n",
    "plt.ylabel('Structural Twist')\n",
    "plt.title('Structural Twist');"
   ]
  },
  {
   "cell_type": "markdown",
   "metadata": {},
   "source": [
    "## 3. FLAPWISE STIFFNESS"
   ]
  },
  {
   "cell_type": "code",
   "execution_count": 8,
   "metadata": {},
   "outputs": [
    {
     "data": {
      "text/html": [
       "<div>\n",
       "<style scoped>\n",
       "    .dataframe tbody tr th:only-of-type {\n",
       "        vertical-align: middle;\n",
       "    }\n",
       "\n",
       "    .dataframe tbody tr th {\n",
       "        vertical-align: top;\n",
       "    }\n",
       "\n",
       "    .dataframe thead th {\n",
       "        text-align: right;\n",
       "    }\n",
       "</style>\n",
       "<table border=\"1\" class=\"dataframe\">\n",
       "  <thead>\n",
       "    <tr style=\"text-align: right;\">\n",
       "      <th></th>\n",
       "      <th>Spanwise_length</th>\n",
       "      <th>Flapwise_stiffness</th>\n",
       "    </tr>\n",
       "  </thead>\n",
       "  <tbody>\n",
       "    <tr>\n",
       "      <th>0</th>\n",
       "      <td>2.940302</td>\n",
       "      <td>1.893158</td>\n",
       "    </tr>\n",
       "    <tr>\n",
       "      <th>1</th>\n",
       "      <td>3.671741</td>\n",
       "      <td>1.773496</td>\n",
       "    </tr>\n",
       "    <tr>\n",
       "      <th>2</th>\n",
       "      <td>4.098414</td>\n",
       "      <td>1.682021</td>\n",
       "    </tr>\n",
       "    <tr>\n",
       "      <th>3</th>\n",
       "      <td>4.464134</td>\n",
       "      <td>1.594091</td>\n",
       "    </tr>\n",
       "    <tr>\n",
       "      <th>4</th>\n",
       "      <td>4.890807</td>\n",
       "      <td>1.494816</td>\n",
       "    </tr>\n",
       "  </tbody>\n",
       "</table>\n",
       "</div>"
      ],
      "text/plain": [
       "   Spanwise_length  Flapwise_stiffness\n",
       "0         2.940302            1.893158\n",
       "1         3.671741            1.773496\n",
       "2         4.098414            1.682021\n",
       "3         4.464134            1.594091\n",
       "4         4.890807            1.494816"
      ]
     },
     "execution_count": 8,
     "metadata": {},
     "output_type": "execute_result"
    }
   ],
   "source": [
    "#Defining the location of the data folder \n",
    "DATA_FOLDER = 'Desktop/PLOTS_DATA_WIND_TURBINES/Structural_properties/Data/'\n",
    "\n",
    "#Definition of the data path\n",
    "DATASET = DATA_FOLDER + \"Flapwise_Stiffness.csv\"\n",
    "\n",
    "#Load of the compressed files in a specific way in function of the type of data file \n",
    "df = pd.read_csv(DATASET,sep =';',decimal=\",\")\n",
    "\n",
    "#Defining the columns names of the uploaded dataframe\n",
    "df.columns=[\"Spanwise_length\", \"Flapwise_stiffness\"]\n",
    "\n",
    "df.head()"
   ]
  },
  {
   "cell_type": "code",
   "execution_count": 9,
   "metadata": {},
   "outputs": [
    {
     "data": {
      "text/plain": [
       "Spanwise_length       float64\n",
       "Flapwise_stiffness    float64\n",
       "dtype: object"
      ]
     },
     "execution_count": 9,
     "metadata": {},
     "output_type": "execute_result"
    }
   ],
   "source": [
    "df.dtypes"
   ]
  },
  {
   "cell_type": "code",
   "execution_count": 10,
   "metadata": {},
   "outputs": [
    {
     "data": {
      "image/png": "[encoded data removed]",
      "text/plain": [
       "<Figure size 432x288 with 1 Axes>"
      ]
     },
     "metadata": {
      "needs_background": "light"
     },
     "output_type": "display_data"
    }
   ],
   "source": [
    "#Creating the plot figure:\n",
    "\n",
    "x = df[\"Spanwise_length\"]\n",
    "y = df[\"Flapwise_stiffness\"]\n",
    "\n",
    "plt.plot(x, y, color='blue', linewidth=2)\n",
    "plt.xlabel('Spanwise length [m]')\n",
    "plt.ylabel('Flapwise Stiffness [10^10 N·m^2]')\n",
    "plt.title('Flapwise Stiffness');"
   ]
  },
  {
   "cell_type": "markdown",
   "metadata": {},
   "source": [
    "## 4. EDGEWISE STIFFNESS"
   ]
  },
  {
   "cell_type": "code",
   "execution_count": 11,
   "metadata": {},
   "outputs": [
    {
     "data": {
      "text/html": [
       "<div>\n",
       "<style scoped>\n",
       "    .dataframe tbody tr th:only-of-type {\n",
       "        vertical-align: middle;\n",
       "    }\n",
       "\n",
       "    .dataframe tbody tr th {\n",
       "        vertical-align: top;\n",
       "    }\n",
       "\n",
       "    .dataframe thead th {\n",
       "        text-align: right;\n",
       "    }\n",
       "</style>\n",
       "<table border=\"1\" class=\"dataframe\">\n",
       "  <thead>\n",
       "    <tr style=\"text-align: right;\">\n",
       "      <th></th>\n",
       "      <th>Spanwise_length</th>\n",
       "      <th>Edgewise_stiffness</th>\n",
       "    </tr>\n",
       "  </thead>\n",
       "  <tbody>\n",
       "    <tr>\n",
       "      <th>0</th>\n",
       "      <td>2.975522</td>\n",
       "      <td>1.956260</td>\n",
       "    </tr>\n",
       "    <tr>\n",
       "      <th>1</th>\n",
       "      <td>4.361947</td>\n",
       "      <td>1.965863</td>\n",
       "    </tr>\n",
       "    <tr>\n",
       "      <th>2</th>\n",
       "      <td>5.050255</td>\n",
       "      <td>1.846663</td>\n",
       "    </tr>\n",
       "    <tr>\n",
       "      <th>3</th>\n",
       "      <td>5.241139</td>\n",
       "      <td>1.725464</td>\n",
       "    </tr>\n",
       "    <tr>\n",
       "      <th>4</th>\n",
       "      <td>5.528946</td>\n",
       "      <td>1.581139</td>\n",
       "    </tr>\n",
       "  </tbody>\n",
       "</table>\n",
       "</div>"
      ],
      "text/plain": [
       "   Spanwise_length  Edgewise_stiffness\n",
       "0         2.975522            1.956260\n",
       "1         4.361947            1.965863\n",
       "2         5.050255            1.846663\n",
       "3         5.241139            1.725464\n",
       "4         5.528946            1.581139"
      ]
     },
     "execution_count": 11,
     "metadata": {},
     "output_type": "execute_result"
    }
   ],
   "source": [
    "#Defining the location of the data folder \n",
    "DATA_FOLDER = 'Desktop/PLOTS_DATA_WIND_TURBINES/Structural_properties/Data/'\n",
    "\n",
    "#Definition of the data path\n",
    "DATASET = DATA_FOLDER + \"Edgewise_Stiffness.csv\"\n",
    "\n",
    "#Load of the compressed files in a specific way in function of the type of data file \n",
    "df = pd.read_csv(DATASET,sep =';',decimal=\",\")\n",
    "\n",
    "#Defining the columns names of the uploaded dataframe\n",
    "df.columns=[\"Spanwise_length\", \"Edgewise_stiffness\"]\n",
    "\n",
    "df.head()"
   ]
  },
  {
   "cell_type": "code",
   "execution_count": 12,
   "metadata": {},
   "outputs": [
    {
     "data": {
      "text/plain": [
       "Spanwise_length       float64\n",
       "Edgewise_stiffness    float64\n",
       "dtype: object"
      ]
     },
     "execution_count": 12,
     "metadata": {},
     "output_type": "execute_result"
    }
   ],
   "source": [
    "df.dtypes"
   ]
  },
  {
   "cell_type": "code",
   "execution_count": 13,
   "metadata": {},
   "outputs": [
    {
     "data": {
      "image/png": "[encoded data removed]",
      "text/plain": [
       "<Figure size 432x288 with 1 Axes>"
      ]
     },
     "metadata": {
      "needs_background": "light"
     },
     "output_type": "display_data"
    }
   ],
   "source": [
    "#Creating the plot figure:\n",
    "\n",
    "x = df[\"Spanwise_length\"]\n",
    "y = df[\"Edgewise_stiffness\"]\n",
    "\n",
    "plt.plot(x, y, color='blue', linewidth=2)\n",
    "plt.xlabel('Spanwise length [m]')\n",
    "plt.ylabel('Edgewise Stiffness [10^10 N·m^2]')\n",
    "plt.title('Edgewise Stiffness');"
   ]
  },
  {
   "cell_type": "code",
   "execution_count": 14,
   "metadata": {},
   "outputs": [
    {
     "data": {
      "text/html": [
       "<div>\n",
       "<style scoped>\n",
       "    .dataframe tbody tr th:only-of-type {\n",
       "        vertical-align: middle;\n",
       "    }\n",
       "\n",
       "    .dataframe tbody tr th {\n",
       "        vertical-align: top;\n",
       "    }\n",
       "\n",
       "    .dataframe thead th {\n",
       "        text-align: right;\n",
       "    }\n",
       "</style>\n",
       "<table border=\"1\" class=\"dataframe\">\n",
       "  <thead>\n",
       "    <tr style=\"text-align: right;\">\n",
       "      <th></th>\n",
       "      <th>Spanwise_length</th>\n",
       "      <th>Edgewise_stiffness</th>\n",
       "    </tr>\n",
       "  </thead>\n",
       "  <tbody>\n",
       "    <tr>\n",
       "      <th>0</th>\n",
       "      <td>2.975522</td>\n",
       "      <td>1.956260</td>\n",
       "    </tr>\n",
       "    <tr>\n",
       "      <th>1</th>\n",
       "      <td>4.361947</td>\n",
       "      <td>1.965863</td>\n",
       "    </tr>\n",
       "    <tr>\n",
       "      <th>2</th>\n",
       "      <td>5.050255</td>\n",
       "      <td>1.846663</td>\n",
       "    </tr>\n",
       "    <tr>\n",
       "      <th>3</th>\n",
       "      <td>5.241139</td>\n",
       "      <td>1.725464</td>\n",
       "    </tr>\n",
       "    <tr>\n",
       "      <th>4</th>\n",
       "      <td>5.528946</td>\n",
       "      <td>1.581139</td>\n",
       "    </tr>\n",
       "    <tr>\n",
       "      <th>5</th>\n",
       "      <td>5.817397</td>\n",
       "      <td>1.453087</td>\n",
       "    </tr>\n",
       "    <tr>\n",
       "      <th>6</th>\n",
       "      <td>6.008907</td>\n",
       "      <td>1.347734</td>\n",
       "    </tr>\n",
       "    <tr>\n",
       "      <th>7</th>\n",
       "      <td>6.200383</td>\n",
       "      <td>1.241524</td>\n",
       "    </tr>\n",
       "    <tr>\n",
       "      <th>8</th>\n",
       "      <td>6.488995</td>\n",
       "      <td>1.117542</td>\n",
       "    </tr>\n",
       "    <tr>\n",
       "      <th>9</th>\n",
       "      <td>6.973595</td>\n",
       "      <td>1.001451</td>\n",
       "    </tr>\n",
       "    <tr>\n",
       "      <th>10</th>\n",
       "      <td>7.886636</td>\n",
       "      <td>0.895379</td>\n",
       "    </tr>\n",
       "    <tr>\n",
       "      <th>11</th>\n",
       "      <td>8.799961</td>\n",
       "      <td>0.796496</td>\n",
       "    </tr>\n",
       "    <tr>\n",
       "      <th>12</th>\n",
       "      <td>9.897039</td>\n",
       "      <td>0.705337</td>\n",
       "    </tr>\n",
       "    <tr>\n",
       "      <th>13</th>\n",
       "      <td>11.242595</td>\n",
       "      <td>0.712345</td>\n",
       "    </tr>\n",
       "    <tr>\n",
       "      <th>14</th>\n",
       "      <td>12.588460</td>\n",
       "      <td>0.727139</td>\n",
       "    </tr>\n",
       "    <tr>\n",
       "      <th>15</th>\n",
       "      <td>13.932138</td>\n",
       "      <td>0.686649</td>\n",
       "    </tr>\n",
       "    <tr>\n",
       "      <th>16</th>\n",
       "      <td>14.967923</td>\n",
       "      <td>0.591846</td>\n",
       "    </tr>\n",
       "    <tr>\n",
       "      <th>17</th>\n",
       "      <td>16.004108</td>\n",
       "      <td>0.507167</td>\n",
       "    </tr>\n",
       "    <tr>\n",
       "      <th>18</th>\n",
       "      <td>17.348694</td>\n",
       "      <td>0.489647</td>\n",
       "    </tr>\n",
       "    <tr>\n",
       "      <th>19</th>\n",
       "      <td>19.059852</td>\n",
       "      <td>0.463951</td>\n",
       "    </tr>\n",
       "    <tr>\n",
       "      <th>20</th>\n",
       "      <td>20.404531</td>\n",
       "      <td>0.448767</td>\n",
       "    </tr>\n",
       "    <tr>\n",
       "      <th>21</th>\n",
       "      <td>21.748932</td>\n",
       "      <td>0.426575</td>\n",
       "    </tr>\n",
       "    <tr>\n",
       "      <th>22</th>\n",
       "      <td>23.093550</td>\n",
       "      <td>0.409834</td>\n",
       "    </tr>\n",
       "    <tr>\n",
       "      <th>23</th>\n",
       "      <td>24.438028</td>\n",
       "      <td>0.389589</td>\n",
       "    </tr>\n",
       "    <tr>\n",
       "      <th>24</th>\n",
       "      <td>25.782707</td>\n",
       "      <td>0.374405</td>\n",
       "    </tr>\n",
       "    <tr>\n",
       "      <th>25</th>\n",
       "      <td>27.331016</td>\n",
       "      <td>0.354159</td>\n",
       "    </tr>\n",
       "    <tr>\n",
       "      <th>26</th>\n",
       "      <td>28.471880</td>\n",
       "      <td>0.339365</td>\n",
       "    </tr>\n",
       "    <tr>\n",
       "      <th>27</th>\n",
       "      <td>29.816113</td>\n",
       "      <td>0.312890</td>\n",
       "    </tr>\n",
       "    <tr>\n",
       "      <th>28</th>\n",
       "      <td>31.160330</td>\n",
       "      <td>0.286026</td>\n",
       "    </tr>\n",
       "    <tr>\n",
       "      <th>29</th>\n",
       "      <td>32.504809</td>\n",
       "      <td>0.265781</td>\n",
       "    </tr>\n",
       "    <tr>\n",
       "      <th>30</th>\n",
       "      <td>33.605261</td>\n",
       "      <td>0.259941</td>\n",
       "    </tr>\n",
       "    <tr>\n",
       "      <th>31</th>\n",
       "      <td>35.805626</td>\n",
       "      <td>0.234634</td>\n",
       "    </tr>\n",
       "    <tr>\n",
       "      <th>32</th>\n",
       "      <td>37.149335</td>\n",
       "      <td>0.194923</td>\n",
       "    </tr>\n",
       "    <tr>\n",
       "      <th>33</th>\n",
       "      <td>38.493814</td>\n",
       "      <td>0.174677</td>\n",
       "    </tr>\n",
       "    <tr>\n",
       "      <th>34</th>\n",
       "      <td>39.838231</td>\n",
       "      <td>0.152875</td>\n",
       "    </tr>\n",
       "    <tr>\n",
       "      <th>35</th>\n",
       "      <td>41.183048</td>\n",
       "      <td>0.141195</td>\n",
       "    </tr>\n",
       "    <tr>\n",
       "      <th>36</th>\n",
       "      <td>42.527989</td>\n",
       "      <td>0.132630</td>\n",
       "    </tr>\n",
       "    <tr>\n",
       "      <th>37</th>\n",
       "      <td>43.872684</td>\n",
       "      <td>0.117835</td>\n",
       "    </tr>\n",
       "    <tr>\n",
       "      <th>38</th>\n",
       "      <td>45.217593</td>\n",
       "      <td>0.108491</td>\n",
       "    </tr>\n",
       "    <tr>\n",
       "      <th>39</th>\n",
       "      <td>46.562457</td>\n",
       "      <td>0.097979</td>\n",
       "    </tr>\n",
       "    <tr>\n",
       "      <th>40</th>\n",
       "      <td>47.907198</td>\n",
       "      <td>0.084352</td>\n",
       "    </tr>\n",
       "    <tr>\n",
       "      <th>41</th>\n",
       "      <td>49.252046</td>\n",
       "      <td>0.073451</td>\n",
       "    </tr>\n",
       "    <tr>\n",
       "      <th>42</th>\n",
       "      <td>50.596941</td>\n",
       "      <td>0.063718</td>\n",
       "    </tr>\n",
       "    <tr>\n",
       "      <th>43</th>\n",
       "      <td>51.941789</td>\n",
       "      <td>0.052817</td>\n",
       "    </tr>\n",
       "    <tr>\n",
       "      <th>44</th>\n",
       "      <td>53.286807</td>\n",
       "      <td>0.046198</td>\n",
       "    </tr>\n",
       "    <tr>\n",
       "      <th>45</th>\n",
       "      <td>54.583016</td>\n",
       "      <td>0.042382</td>\n",
       "    </tr>\n",
       "    <tr>\n",
       "      <th>46</th>\n",
       "      <td>56.160459</td>\n",
       "      <td>0.037243</td>\n",
       "    </tr>\n",
       "    <tr>\n",
       "      <th>47</th>\n",
       "      <td>57.689016</td>\n",
       "      <td>0.032961</td>\n",
       "    </tr>\n",
       "    <tr>\n",
       "      <th>48</th>\n",
       "      <td>59.034095</td>\n",
       "      <td>0.027899</td>\n",
       "    </tr>\n",
       "    <tr>\n",
       "      <th>49</th>\n",
       "      <td>60.379236</td>\n",
       "      <td>0.024395</td>\n",
       "    </tr>\n",
       "    <tr>\n",
       "      <th>50</th>\n",
       "      <td>61.724377</td>\n",
       "      <td>0.020891</td>\n",
       "    </tr>\n",
       "    <tr>\n",
       "      <th>51</th>\n",
       "      <td>62.580433</td>\n",
       "      <td>0.020113</td>\n",
       "    </tr>\n",
       "  </tbody>\n",
       "</table>\n",
       "</div>"
      ],
      "text/plain": [
       "    Spanwise_length  Edgewise_stiffness\n",
       "0          2.975522            1.956260\n",
       "1          4.361947            1.965863\n",
       "2          5.050255            1.846663\n",
       "3          5.241139            1.725464\n",
       "4          5.528946            1.581139\n",
       "5          5.817397            1.453087\n",
       "6          6.008907            1.347734\n",
       "7          6.200383            1.241524\n",
       "8          6.488995            1.117542\n",
       "9          6.973595            1.001451\n",
       "10         7.886636            0.895379\n",
       "11         8.799961            0.796496\n",
       "12         9.897039            0.705337\n",
       "13        11.242595            0.712345\n",
       "14        12.588460            0.727139\n",
       "15        13.932138            0.686649\n",
       "16        14.967923            0.591846\n",
       "17        16.004108            0.507167\n",
       "18        17.348694            0.489647\n",
       "19        19.059852            0.463951\n",
       "20        20.404531            0.448767\n",
       "21        21.748932            0.426575\n",
       "22        23.093550            0.409834\n",
       "23        24.438028            0.389589\n",
       "24        25.782707            0.374405\n",
       "25        27.331016            0.354159\n",
       "26        28.471880            0.339365\n",
       "27        29.816113            0.312890\n",
       "28        31.160330            0.286026\n",
       "29        32.504809            0.265781\n",
       "30        33.605261            0.259941\n",
       "31        35.805626            0.234634\n",
       "32        37.149335            0.194923\n",
       "33        38.493814            0.174677\n",
       "34        39.838231            0.152875\n",
       "35        41.183048            0.141195\n",
       "36        42.527989            0.132630\n",
       "37        43.872684            0.117835\n",
       "38        45.217593            0.108491\n",
       "39        46.562457            0.097979\n",
       "40        47.907198            0.084352\n",
       "41        49.252046            0.073451\n",
       "42        50.596941            0.063718\n",
       "43        51.941789            0.052817\n",
       "44        53.286807            0.046198\n",
       "45        54.583016            0.042382\n",
       "46        56.160459            0.037243\n",
       "47        57.689016            0.032961\n",
       "48        59.034095            0.027899\n",
       "49        60.379236            0.024395\n",
       "50        61.724377            0.020891\n",
       "51        62.580433            0.020113"
      ]
     },
     "execution_count": 14,
     "metadata": {},
     "output_type": "execute_result"
    }
   ],
   "source": [
    "df\n",
    "   "
   ]
  },
  {
   "cell_type": "code",
   "execution_count": 21,
   "metadata": {},
   "outputs": [
    {
     "name": "stdout",
     "output_type": "stream",
     "text": [
      "The corresponding strucural propetie value is : 1.6859175598537264\n"
     ]
    }
   ],
   "source": [
    "#Defining interpolation function for a determinate spanwise point:\n",
    "x = 5.32\n",
    "\n",
    "for j in range(len(df)-1):\n",
    "\n",
    "            i = j-1\n",
    "\n",
    "            x0 = df[\"Spanwise_length\"].iloc[i]\n",
    "            x1 = df[\"Spanwise_length\"].iloc[j]\n",
    "            if x0 < x:\n",
    "\n",
    "                if x < x1:\n",
    "                        y0 = df[\"Edgewise_stiffness\"].iloc[i]\n",
    "                        y1 = df[\"Edgewise_stiffness\"].iloc[j]\n",
    "                        y = y0+(y1-y0)*((x-x0)/(x1-x0))\n",
    "                        j = len(df)\n",
    "\n",
    "\n",
    "print(\"The corresponding strucural propetie value is : {}\".format(y))"
   ]
  },
  {
   "cell_type": "code",
   "execution_count": 18,
   "metadata": {},
   "outputs": [
    {
     "ename": "IndentationError",
     "evalue": "unexpected indent (<ipython-input-18-f584546b40bb>, line 14)",
     "output_type": "error",
     "traceback": [
      "\u001b[1;36m  File \u001b[1;32m\"<ipython-input-18-f584546b40bb>\"\u001b[1;36m, line \u001b[1;32m14\u001b[0m\n\u001b[1;33m    for j in range(len(df)-1):\u001b[0m\n\u001b[1;37m    ^\u001b[0m\n\u001b[1;31mIndentationError\u001b[0m\u001b[1;31m:\u001b[0m unexpected indent\n"
     ]
    }
   ],
   "source": [
    "#Defining interpolation function for a determinate spanwise point but with limits for the introduced value:\n",
    "#It do not work well, I don't know why?? But is not very important this fact, the main function works very well.\n",
    "\n",
    "x = 5.32\n",
    "xmin = df[\"Spanwise_length\"].iloc[0]\n",
    "xmax = df[\"Spanwise_length\"].iloc[len(df)-1]\n",
    "    if x < xmin:\n",
    "        print(\"The value introduced is lower than the minimum that is: {}\".format(xmin))  \n",
    "\n",
    "    elif x > xmax:\n",
    "        print(\"The value introduced is higher than the minimum that is: {}\".format(xmax))  \n",
    "\n",
    "    else\n",
    "\n",
    "\n",
    "        for j in range(len(df)-1):\n",
    "\n",
    "            i = j-1\n",
    "\n",
    "            x0 = df[\"Spanwise_length\"].iloc[i]\n",
    "            x1 = df[\"Spanwise_length\"].iloc[j]\n",
    "            if x0 < x:\n",
    "\n",
    "                if x < x1:\n",
    "                        y0 = df[\"Edgewise_stiffness\"].iloc[i]\n",
    "                        y1 = df[\"Edgewise_stiffness\"].iloc[j]\n",
    "                        y = y0+(y1-y0)*((x-x0)/(x1-x0))\n",
    "                        j = len(df)\n",
    "        \n",
    "    "
   ]
  }
 ],
 "metadata": {
  "kernelspec": {
   "display_name": "Python 3",
   "language": "python",
   "name": "python3"
  },
  "language_info": {
   "codemirror_mode": {
    "name": "ipython",
    "version": 3
   },
   "file_extension": ".py",
   "mimetype": "text/x-python",
   "name": "python",
   "nbconvert_exporter": "python",
   "pygments_lexer": "ipython3",
   "version": "3.8.5"
  }
 },
 "nbformat": 4,
 "nbformat_minor": 4
}
